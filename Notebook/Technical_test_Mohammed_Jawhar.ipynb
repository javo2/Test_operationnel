{
 "cells": [
  {
   "cell_type": "markdown",
   "id": "6bf1f0de-c116-42cc-a0f2-fd99702b0b72",
   "metadata": {},
   "source": [
    "### <p style=\"text-align:left\"><span style=\"color:green\">Importing Required `Libraries`</span></p>"
   ]
  },
  {
   "cell_type": "code",
   "execution_count": 1,
   "id": "328a5fa7-452e-4d32-b833-9829ee5ec862",
   "metadata": {},
   "outputs": [],
   "source": [
    "# Data manipulation and analysis libraries:\n",
    "import numpy as np\n",
    "import pandas as pd\n",
    "\n",
    "# Data visualization libraries:\n",
    "import matplotlib.pyplot as plt\n",
    "import seaborn as sns\n",
    "\n",
    "# Other libraries:\n",
    "#from tqdm import tqdm\n",
    "from dotenv import load_dotenv\n",
    "import warnings\n",
    "import os\n",
    "\n",
    "# Data science imports:\n",
    "from sklearn.model_selection import train_test_split\n",
    "from sklearn.preprocessing import LabelEncoder\n",
    "from sklearn.linear_model import LinearRegression, Ridge, Lasso\n",
    "from sklearn.neighbors import KNeighborsRegressor\n",
    "from sklearn.tree import DecisionTreeRegressor\n",
    "from sklearn.svm import SVR\n",
    "from sklearn import metrics\n",
    "from sklearn.ensemble import (\n",
    "    RandomForestRegressor,\n",
    "    ExtraTreesRegressor,\n",
    "    GradientBoostingRegressor,\n",
    "    BaggingRegressor,\n",
    ")\n",
    "from sklearn.model_selection import KFold\n",
    "from sklearn.metrics import (\n",
    "    mean_squared_error,\n",
    "    mean_absolute_error,\n",
    "    r2_score,\n",
    "    mean_absolute_percentage_error,\n",
    "    median_absolute_error\n",
    ")\n",
    "\n",
    "# Configure pandas to display all columns:\n",
    "pd.set_option('display.max_columns', None)\n",
    "\n",
    "# Render figures directly in the notebook:\n",
    "%matplotlib inline\n",
    "\n",
    "# Render higher resolution images:\n",
    "%config InlineBackend.figure_format = 'retina'\n",
    "\n",
    "# Ignore warning messages:\n",
    "warnings.filterwarnings('ignore')"
   ]
  },
  {
   "cell_type": "markdown",
   "id": "0d636c76-5447-4c5b-95eb-9e4ac8ebc0ab",
   "metadata": {},
   "source": [
    "### <p style=\"text-align:left\"><span style=\"color:green\">Reading the `CSV File`</span></p>"
   ]
  },
  {
   "cell_type": "code",
   "execution_count": 7,
   "id": "9b4dc075-0378-4787-9491-b0d5cd776dbd",
   "metadata": {},
   "outputs": [
    {
     "name": "stdout",
     "output_type": "stream",
     "text": [
      "tweets dataset.csv\n"
     ]
    }
   ],
   "source": [
    "# Load environment variables from .env file\n",
    "load_dotenv()\n",
    "\n",
    "# Set the path to the directory where csv data is stored\n",
    "DATA_PATH = os.getenv(\"DATA_PATH\")\n",
    "\n",
    "# Listing the different datasets on our data directory\n",
    "files = os.listdir(DATA_PATH)\n",
    "for file in files:\n",
    "    print(file)"
   ]
  },
  {
   "cell_type": "code",
   "execution_count": 10,
   "id": "735211ee-d431-438b-807a-693e160cb42b",
   "metadata": {},
   "outputs": [],
   "source": [
    "tweets_df = pd.read_csv('../data/tweets dataset.csv', encoding = \"ISO-8859-1\")"
   ]
  }
 ],
 "metadata": {
  "kernelspec": {
   "display_name": "Python 3 (ipykernel)",
   "language": "python",
   "name": "python3"
  },
  "language_info": {
   "codemirror_mode": {
    "name": "ipython",
    "version": 3
   },
   "file_extension": ".py",
   "mimetype": "text/x-python",
   "name": "python",
   "nbconvert_exporter": "python",
   "pygments_lexer": "ipython3",
   "version": "3.10.11"
  }
 },
 "nbformat": 4,
 "nbformat_minor": 5
}
