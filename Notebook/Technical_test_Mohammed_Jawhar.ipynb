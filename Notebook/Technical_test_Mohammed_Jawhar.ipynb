{
 "cells": [
  {
   "cell_type": "markdown",
   "id": "6bf1f0de-c116-42cc-a0f2-fd99702b0b72",
   "metadata": {},
   "source": [
    "### <p style=\"text-align:left\"><span style=\"color:green\">Importing Required `Libraries`</span></p>"
   ]
  },
  {
   "cell_type": "code",
   "execution_count": 1,
   "id": "662e0e2c-901a-4c57-a586-f0768e0179fb",
   "metadata": {},
   "outputs": [],
   "source": [
    "import warnings\n",
    "warnings.filterwarnings('ignore')\n",
    "\n",
    "# Standard Libraries\n",
    "import time\n",
    "\n",
    "# Data Processing Libraries\n",
    "import pandas as pd\n",
    "import numpy as np\n",
    "\n",
    "# Text Processing Libraries\n",
    "import re  # Regular Expression library\n",
    "import contractions\n",
    "import string\n",
    "import nltk\n",
    "from nltk.corpus import stopwords\n",
    "from nltk.stem import WordNetLemmatizer\n",
    "from nltk.stem.porter import PorterStemmer\n",
    "from nltk.tokenize import word_tokenize  # Tokenization\n",
    "from gensim.parsing.preprocessing import remove_stopwords\n",
    "from spacy.lang.en import English\n",
    "from spacy.lang.en.stop_words import STOP_WORDS\n",
    "import gensim\n",
    "\n",
    "# Visualization Libraries\n",
    "import seaborn as sns\n",
    "import matplotlib.pyplot as plt\n",
    "from wordcloud import WordCloud\n",
    "\n",
    "# Machine Learning Libraries\n",
    "import sklearn\n",
    "from sklearn.linear_model import LogisticRegression\n",
    "from sklearn.tree import DecisionTreeClassifier\n",
    "from sklearn.neighbors import KNeighborsClassifier\n",
    "from sklearn.model_selection import train_test_split\n",
    "from sklearn.feature_extraction.text import TfidfVectorizer\n",
    "from sklearn.feature_extraction.text import CountVectorizer\n",
    "from sklearn.naive_bayes import MultinomialNB\n",
    "from sklearn.svm import SVC\n",
    "from sklearn.metrics import confusion_matrix, ConfusionMatrixDisplay, classification_report, roc_curve, auc\n",
    "from sklearn.model_selection import GridSearchCV\n",
    "from sklearn.pipeline import Pipeline\n",
    "from sklearn.preprocessing import StandardScaler\n"
   ]
  },
  {
   "cell_type": "raw",
   "id": "5747e086-d5a5-474d-becc-4c2715313cda",
   "metadata": {},
   "source": [
    "# Data manipulation and analysis libraries:\n",
    "import numpy as np\n",
    "import pandas as pd\n",
    "\n",
    "# Data visualization libraries:\n",
    "import matplotlib.pyplot as plt\n",
    "import seaborn as sns\n",
    "\n",
    "# Other libraries:\n",
    "#from tqdm import tqdm\n",
    "import warnings\n",
    "import os\n",
    "\n",
    "# Data science imports:\n",
    "from sklearn.model_selection import train_test_split\n",
    "from sklearn.preprocessing import LabelEncoder\n",
    "from sklearn.linear_model import LinearRegression, Ridge, Lasso\n",
    "from sklearn.neighbors import KNeighborsRegressor\n",
    "from sklearn.tree import DecisionTreeRegressor\n",
    "from sklearn.svm import SVR\n",
    "from sklearn import metrics\n",
    "from sklearn.ensemble import (\n",
    "    RandomForestRegressor,\n",
    "    ExtraTreesRegressor,\n",
    "    GradientBoostingRegressor,\n",
    "    BaggingRegressor,\n",
    ")\n",
    "from sklearn.model_selection import KFold\n",
    "from sklearn.metrics import (\n",
    "    mean_squared_error,\n",
    "    mean_absolute_error,\n",
    "    r2_score,\n",
    "    mean_absolute_percentage_error,\n",
    "    median_absolute_error\n",
    ")\n",
    "\n",
    "# Configure pandas to display all columns:\n",
    "pd.set_option('display.max_columns', None)\n",
    "\n",
    "# Render figures directly in the notebook:\n",
    "%matplotlib inline\n",
    "\n",
    "# Render higher resolution images:\n",
    "%config InlineBackend.figure_format = 'retina'\n",
    "\n",
    "# Ignore warning messages:\n",
    "warnings.filterwarnings('ignore')"
   ]
  },
  {
   "cell_type": "markdown",
   "id": "0d636c76-5447-4c5b-95eb-9e4ac8ebc0ab",
   "metadata": {},
   "source": [
    "### <p style=\"text-align:left\"><span style=\"color:green\">Reading the `CSV File`</span></p>"
   ]
  },
  {
   "cell_type": "code",
   "execution_count": 2,
   "id": "735211ee-d431-438b-807a-693e160cb42b",
   "metadata": {},
   "outputs": [],
   "source": [
    "tweets_df = pd.read_csv('../data/tweets dataset.csv', encoding = \"ISO-8859-1\")"
   ]
  },
  {
   "cell_type": "code",
   "execution_count": 3,
   "id": "da879889-707f-4151-9d55-1a0b497365d5",
   "metadata": {},
   "outputs": [
    {
     "data": {
      "text/html": [
       "<div>\n",
       "<style scoped>\n",
       "    .dataframe tbody tr th:only-of-type {\n",
       "        vertical-align: middle;\n",
       "    }\n",
       "\n",
       "    .dataframe tbody tr th {\n",
       "        vertical-align: top;\n",
       "    }\n",
       "\n",
       "    .dataframe thead th {\n",
       "        text-align: right;\n",
       "    }\n",
       "</style>\n",
       "<table border=\"1\" class=\"dataframe\">\n",
       "  <thead>\n",
       "    <tr style=\"text-align: right;\">\n",
       "      <th></th>\n",
       "      <th>tweet_text</th>\n",
       "      <th>emotion_in_tweet_is_directed_at</th>\n",
       "      <th>is_there_an_emotion_directed_at_a_brand_or_product</th>\n",
       "    </tr>\n",
       "  </thead>\n",
       "  <tbody>\n",
       "    <tr>\n",
       "      <th>0</th>\n",
       "      <td>.@wesley83 I have a 3G iPhone. After 3 hrs twe...</td>\n",
       "      <td>iPhone</td>\n",
       "      <td>Negative emotion</td>\n",
       "    </tr>\n",
       "    <tr>\n",
       "      <th>1</th>\n",
       "      <td>@jessedee Know about @fludapp ? Awesome iPad/i...</td>\n",
       "      <td>iPad or iPhone App</td>\n",
       "      <td>Positive emotion</td>\n",
       "    </tr>\n",
       "    <tr>\n",
       "      <th>2</th>\n",
       "      <td>@swonderlin Can not wait for #iPad 2 also. The...</td>\n",
       "      <td>iPad</td>\n",
       "      <td>Positive emotion</td>\n",
       "    </tr>\n",
       "    <tr>\n",
       "      <th>3</th>\n",
       "      <td>@sxsw I hope this year's festival isn't as cra...</td>\n",
       "      <td>iPad or iPhone App</td>\n",
       "      <td>Negative emotion</td>\n",
       "    </tr>\n",
       "    <tr>\n",
       "      <th>4</th>\n",
       "      <td>@sxtxstate great stuff on Fri #SXSW: Marissa M...</td>\n",
       "      <td>Google</td>\n",
       "      <td>Positive emotion</td>\n",
       "    </tr>\n",
       "  </tbody>\n",
       "</table>\n",
       "</div>"
      ],
      "text/plain": [
       "                                          tweet_text  \\\n",
       "0  .@wesley83 I have a 3G iPhone. After 3 hrs twe...   \n",
       "1  @jessedee Know about @fludapp ? Awesome iPad/i...   \n",
       "2  @swonderlin Can not wait for #iPad 2 also. The...   \n",
       "3  @sxsw I hope this year's festival isn't as cra...   \n",
       "4  @sxtxstate great stuff on Fri #SXSW: Marissa M...   \n",
       "\n",
       "  emotion_in_tweet_is_directed_at  \\\n",
       "0                          iPhone   \n",
       "1              iPad or iPhone App   \n",
       "2                            iPad   \n",
       "3              iPad or iPhone App   \n",
       "4                          Google   \n",
       "\n",
       "  is_there_an_emotion_directed_at_a_brand_or_product  \n",
       "0                                   Negative emotion  \n",
       "1                                   Positive emotion  \n",
       "2                                   Positive emotion  \n",
       "3                                   Negative emotion  \n",
       "4                                   Positive emotion  "
      ]
     },
     "execution_count": 3,
     "metadata": {},
     "output_type": "execute_result"
    }
   ],
   "source": [
    "tweets_df.head()"
   ]
  },
  {
   "cell_type": "code",
   "execution_count": 4,
   "id": "856d970c-a644-4dac-8680-add983d13938",
   "metadata": {},
   "outputs": [
    {
     "data": {
      "text/plain": [
       "(9093, 3)"
      ]
     },
     "execution_count": 4,
     "metadata": {},
     "output_type": "execute_result"
    }
   ],
   "source": [
    "tweets_df.shape"
   ]
  },
  {
   "cell_type": "markdown",
   "id": "ed764600-8be1-4788-967a-ec66cf80816b",
   "metadata": {},
   "source": [
    "The dataset contains 9093 records and consists in three columns:\n",
    "\n",
    "* **tweet_text :** The tweet's content\n",
    "* **emotion_in_tweet_is_directed_at :** The brand mentioned in the tweet\n",
    "* **is_there_an_emotion_directed_at_a_brand_or_product :** The emotion/neutrality expressed in the tweet   \n"
   ]
  },
  {
   "cell_type": "markdown",
   "id": "1ed0aac3-55fa-47f3-95f4-117a87651351",
   "metadata": {},
   "source": [
    "### <p style=\"text-align:left\"><span style=\"color:green\">Exploring the dataset</span></p>"
   ]
  },
  {
   "cell_type": "markdown",
   "id": "5d410b62-9899-47f7-92e7-77e101c28049",
   "metadata": {},
   "source": [
    "Let us first check wether our data is cleaned and if there is any missing values"
   ]
  },
  {
   "cell_type": "code",
   "execution_count": 5,
   "id": "a2293305-f9e9-4d3d-b48d-3e5b858849bf",
   "metadata": {},
   "outputs": [
    {
     "name": "stdout",
     "output_type": "stream",
     "text": [
      "The data columns contain the following missing values: \n"
     ]
    },
    {
     "data": {
      "text/plain": [
       "tweet_text                                               1\n",
       "emotion_in_tweet_is_directed_at                       5802\n",
       "is_there_an_emotion_directed_at_a_brand_or_product       0\n",
       "dtype: int64"
      ]
     },
     "execution_count": 5,
     "metadata": {},
     "output_type": "execute_result"
    }
   ],
   "source": [
    "print(\"The data columns contain the following missing values: \")\n",
    "tweets_df.isna().sum()"
   ]
  },
  {
   "cell_type": "markdown",
   "id": "ad632d51-64f6-4fec-a9c5-84b45a0eb43f",
   "metadata": {},
   "source": [
    "As we can see, there is a missing tweet, we will delete it later since it is not relevant in our case. \n",
    "There are also 5802 missing values out of 9093 in the *emotion_in_tweet_is_directed_at* column, we will implement an approach to deal with them later since they represent an important percentage of our data which could bring us significant insights and help us in the analysis and visualization part"
   ]
  },
  {
   "cell_type": "markdown",
   "id": "26960b2f-0a30-4d6c-915c-a5d50615a36b",
   "metadata": {},
   "source": [
    "In order to analyze the tweet's structure and find more about its relationship with the column *emotion_in_tweet_is_directed_at*, we can display fully  some samples :"
   ]
  },
  {
   "cell_type": "code",
   "execution_count": 6,
   "id": "250cc551-ec0a-4297-80ae-d454d1f775bd",
   "metadata": {},
   "outputs": [
    {
     "name": "stdout",
     "output_type": "stream",
     "text": [
      "At #SXSW, #Apple schools the marketing experts {link}\n",
      "nan\n",
      "----------\n",
      "RT @mention Giving away an #iPad at #SXSW for all you mappers out there. Entry is amazingly easy, here are details: {link}\n",
      "iPad\n",
      "----------\n",
      "apple store line at #sxsw {link}\n",
      "nan\n",
      "----------\n",
      "someone started an #austin @mention group in google groups, pre-#sxsw. great idea\n",
      "Other Google product or service\n",
      "----------\n",
      "@mention Hey! Come by the Fast Company Grille if you're hungry! Mention #zazzlesxsw and get a customizable iPhone case too! #sxsw\n",
      "nan\n",
      "----------\n",
      "Google earth engine are providing tech to indigenous tribes to report on statuses of forests. This is more like it #saveustechies #sxsw\n",
      "Other Google product or service\n",
      "----------\n",
      "It amazes me how many people don't tuck the flap in on their apple iPad case #sxsw\n",
      "nan\n",
      "----------\n",
      "ÛÏ@mention Download 20+ FREE tracks from the #SXSW Music Sampler available on @mention store today!  {link}\n",
      "nan\n",
      "----------\n",
      "Just added my #SXSW flights to @planely. Matching people on planes/airports. Also downloaded the @KLM iPhone app, nicely done.\n",
      "iPad or iPhone App\n",
      "----------\n",
      "This #sxsw app by #MxM is made of AWESOME! --  {link}   --{link}\n",
      "nan\n",
      "----------\n",
      "÷¼ Why Are We Here? ÷_  {link} ã_ #edchat #musedchat #sxsw #sxswi #classical #newTwitter\n",
      "nan\n",
      "----------\n",
      "This Apple Fanboy just bought an iPad 2 - sweeeet! At #SXSW special Apple pop-up store\n",
      "iPad\n",
      "----------\n",
      "RT @mention .@mention is competing with @mention circles on the SocialFlow board for most resonant topic here. #sxsw  {link}\n",
      "nan\n",
      "----------\n",
      "RT @mention mashup on mobile with contextual information in the future by #Google by Marissa Mayer #sxsw #thefutureismobile #sxsw\n",
      "nan\n",
      "----------\n",
      "I was really hoping #SXSW would bring an Android version of @mention Oh well, maybe someday...a long time from now.\n",
      "Android App\n",
      "----------\n",
      "NOV.US was at the Google Party at #SXSW {link}\n",
      "nan\n",
      "----------\n",
      "ÛÏ@mention @mention talking about {link} - Google's effort to allow users to have open systems #bettercloud #sxswÛ\n",
      "Google\n",
      "----------\n",
      "RT @mention RT @mention #SXSW a line of about 100 outside Apple pop- up store at Sixth &amp; Congress\n",
      "nan\n",
      "----------\n",
      "&quot;Apple opening a temporary store in Austin for SXSW and the iPad 2 launch:&quot; {link} #SXSW\n",
      "nan\n",
      "----------\n",
      "@mention @mention @mention There's talk that Apple's thinking of a downtown AUS location, and this temp #SXSW store might be a test.\n",
      "nan\n",
      "----------\n",
      "@mention has evolved from novelty game to essential utility. What now @mention @mention {link} via @mention @IndySaha #sxsw\n",
      "nan\n",
      "----------\n",
      "To those that have purchased an iPad 2 at #SXSW, I see more people buying the white one. Why? Nicer frame for presentations? Reading?\n",
      "nan\n",
      "----------\n",
      "About #Apple pop up store in #Austin for #sxsw.  When you can get peeps to line up at a store before it is finished, you have Brand Power.\n",
      "Apple\n",
      "----------\n",
      "Getting ready for my iPad 2 vs Android panel at #SXSW come check it out at 230!\n",
      "nan\n",
      "----------\n",
      "I just got my custome iphone 4 case from @mention #sxsw - the artwork is my favorite blackbook piece by @mention  {link}\n",
      "iPhone\n",
      "----------\n",
      "Google Places with Hotpot personalized &quot;friend&quot; recommendations are pulled from... Facebook??? #SXSW\n",
      "nan\n",
      "----------\n",
      "Well. Forget the #NFL #lockout right now. Gonna focus on getting my shinmy new iPad here in 40min #SXSW. Apple makes me happy. NFL does not\n",
      "Apple\n",
      "----------\n",
      "Near Field Communication already here on android phones. #SXSW #bemyneighbor\n",
      "nan\n",
      "----------\n",
      "Great preso on ipad design by @mention I learned some stuff I can actually use now! #tapworthy #sxsw\n",
      "iPad\n",
      "----------\n",
      "RT @mention {link} Did you hear? AppleÛªs opening a temporary store just for #SXSW! (via @mention\n",
      "Apple\n",
      "----------\n",
      "Google introducing check-in status and rewards at #sxsw - mobile is where it's at. {link}\n",
      "nan\n",
      "----------\n",
      "Apple, Google AT&amp;T have a surplus of cash, brand loyalty/mobile leash and will make mobile payments easy #bankinnovation #sxsw\n",
      "Apple\n",
      "----------\n",
      "#SXSW lost iPhone in black Parra hard case. Has pink clouds and thunderbolts on back. Email deshi80227@mention Thanks!\n",
      "nan\n",
      "----------\n",
      "Google building real time @mention engine to monitor illegal deforestation in real time #tech4good #sxsw\n",
      "Google\n",
      "----------\n",
      "Before It Even Begins, Apple Wins SXSW: {link} Via @mention @mention #Apple #SXSW\n",
      "Apple\n",
      "----------\n",
      "Excited to meet the @samsungmobileus at #sxsw so I can show them my Sprint Galaxy S still running Android 2.1.   #fail\n",
      "Android\n",
      "----------\n",
      "We set our flatulence to wake ourselves up. You might need a bit more help. #wakeuplaughing {link} #epictweets #sxsw\n",
      "nan\n",
      "----------\n",
      "RT @mention I got turkey! RT @mention Random Apple Fan just bought lunch for everyone in line at #SXSW Popup Apple Store #ipad2 cc/ @mention\n",
      "Apple\n",
      "----------\n",
      "RT @mention I'm debuting my new iPhone &amp; Droid app at #sxsw next year. It makes your phone waterproof &amp; will light your cigarettes for you.\n",
      "nan\n",
      "----------\n",
      "must.resist.Mac.temptation RT @mention Apple is opening up a temp store in downtown Austin for #SXSW   iPad 2 anyone?\n",
      "Apple\n",
      "----------\n",
      "Mine toooo! RT @mention My #iPad envy is through. the. roof. Thanks every other person at #SXSW\n",
      "iPad\n",
      "----------\n",
      "Google Circles, google's social network, rumored to be launching today at #sxsw\n",
      "nan\n",
      "----------\n",
      "Sitting on the floor behind a guy who's fondling his new iPad 2 in a very disturbing way. #sxsw\n",
      "iPad\n",
      "----------\n",
      "WELL, it's not a #SXSW App, but I did just create an Android bookmark so that I can review my onerous schedule with 1 click\n",
      "nan\n",
      "----------\n",
      "[TOP STORY] At #SXSW, Apple schools the marketing experts: Thousands in town to demonstrate their social mar... {link} #sxswi\n",
      "Apple\n",
      "----------\n",
      "@mention  #SXSW LonelyPlanet Austin guide for #iPhone is free for a limited time {link} #lp #travel\n",
      "nan\n",
      "----------\n",
      "Great, Google just presented @mention #marissagoogle #sxsw\n",
      "nan\n",
      "----------\n",
      "Anyone at  #SXSW who bought the new iPad want to sell their older iPad to me?\n",
      "nan\n",
      "----------\n",
      "12 trillion miles driven every year using @mention maps  - each day saving users 2 years in time wasted in traffic jams #SXSW\n",
      "nan\n",
      "----------\n",
      "ÛÏ@mention #sxsw ipad store sold out of everything except 64gig wifi only whiteÛ @mention Did you manage to get yours?\n",
      "iPad\n",
      "----------\n",
      "Apple pop-up shop #sxsw {link}\n",
      "nan\n",
      "----------\n",
      "RT @mention Better get in line now. RT @mention Apple is opening up a temp store in downtown Austin for #SXSW &amp; iPad 2 launch {link}\n",
      "Apple\n",
      "----------\n",
      "RT @mention #iPad2 Unboxing Outside the #SXSW #Apple Store {link}\n",
      "nan\n",
      "----------\n",
      "At Apple store at #sxsw\n",
      "nan\n",
      "----------\n",
      "RT @mention 6th and Congress in the Scarborough bldg. RT @mention So where is this temporary apple store setup? #sxsw\n",
      "nan\n",
      "----------\n",
      "Heading to iPad Design Headaches in Hilton - Salon J #sxsw\n",
      "nan\n",
      "----------\n",
      "Talking local search. No surprises. // Does Google Hotpot weight those reviews heavier than other sites' in results? cc @mention #SXSW\n",
      "nan\n",
      "----------\n",
      "WOW! Apple pop up store downtown #Austin projecting 1/4 million+ profits this weekend alone! They may stay past this weekend #SXSW\n",
      "Apple\n",
      "----------\n",
      "We missed this, @mention Check out Google Doodles: Burning Man to Pac-Man and Beyond. \n",
      "{link} #SXSW\n",
      "nan\n",
      "----------\n",
      "Dude, you're at an Outkast concert and you're tweeting from an iPad. RT @mention Old school players to new school fools. #SXSW\n",
      "nan\n",
      "----------\n",
      "Google (tries again) to launch a new social network called Circles: {link} #sxsw\n",
      "Google\n",
      "----------\n",
      "Cool! And yes, Happy B-day @mention ;-) RT @mention New post: Business cards are dead #SXSW {link}\n",
      "nan\n",
      "----------\n",
      "I will be at #sxsw for Screenburn @mention launch of my clients new iPhone game #travellerARlaunch find out more at {link}\n",
      "nan\n",
      "----------\n",
      "At #SXSW Social Hackathon session with Google, Bing, Webtrends and Chzbrgr. Going to figure out how to do this in Mpls/St Paul #bolinsxsw\n",
      "nan\n",
      "----------\n",
      "Could be cool. RT @mention Google to Launch Major New Social Network Called Circles, Possibly Today {link} #sxsw\n",
      "Other Google product or service\n",
      "----------\n",
      "Cameron Sinclair Spearheads Japan Disaster Relief From #SXSW Via Twitter &amp; iPhone  {link} #sxsw4jp #archforhumanity\n",
      "nan\n",
      "----------\n",
      "Wikitude, Layar, FLAR tools, Argon, and Google Goggles- augmented reality browsers, tools &amp; apps to check out. #sxsw #eduar\n",
      "nan\n",
      "----------\n",
      "RT @mention Google to Launch Major New Social Network Called Circles, Possibly Today {link} #sxsw (via @mention\n",
      "nan\n",
      "----------\n",
      "Updated NPR Music iPhone app has song info for All Songs 24/7 &amp; live video streaming just in time for #SXSW {link}\n",
      "iPad or iPhone App\n",
      "----------\n",
      "Google Hotpot - &quot;Not as good as other services, but we will force it on you anyways.&quot; #SXSW\n",
      "Other Google product or service\n",
      "----------\n",
      "For all those wanting to buy an #iPad2, a temporary #Apple store will open in Austin for #SXSW - {link}\n",
      "nan\n",
      "----------\n",
      "RT @mention We're not launching any products at #SXSW but we're doing plenty else. {link} &lt;&lt; no circles or new apps ftrs?\n",
      "nan\n",
      "----------\n",
      "RT @mention Love it. at #sxsw: &quot;apple comes up with cool technology no one's ever heard of because they don't go to conferences&quot;\n",
      "Apple\n",
      "----------\n",
      "iPad design session at #sxsw is packed! (@mention Hilton, Salon J w/ 21 others) {link}\n",
      "iPad\n",
      "----------\n",
      "Z9: What is it? {link} [codes valid: 8:00-11:59:59a 03/12/11] #infektd #sxsw #zlf\n",
      "nan\n",
      "----------\n",
      "LOL!! Classic! RT @mention This Google/Bing Q&amp;A panel is like the world's most expensive SEO consultation. #SXSW\n",
      "nan\n",
      "----------\n",
      "Well hello, #SXSW! Here's a free @mention sampler, to celebrate the festival this year, including Barton Hollow: {link}\n",
      "nan\n",
      "----------\n",
      "RT @mention We're not launching any products at #SXSW but we're doing plenty else. Join us for #H4ckers &amp; 80s dancing {link}\n",
      "nan\n",
      "----------\n",
      "Yes!!! RT @mention hey @mention , i've got another gem for you --&gt; free @mention sxsw {link} #SXSW\n",
      "nan\n",
      "----------\n",
      "RT @mention I wish the apple store employees cheering for all the people in line at the pop up apple store would cheer me on while I do timesheets #SXSW\n",
      "nan\n",
      "----------\n",
      "Getting ready to hear about the @mention road map from VP Product Marissa Mayer.  Pls tell me you're going to focus on search.... #SXSW\n",
      "nan\n",
      "----------\n",
      "RT @mention Looking for a cool new #iPhone twitter app to track the action at #sxsw this week, check out {link} #tweetignite\n",
      "iPad or iPhone App\n",
      "----------\n",
      "How to know you're a geek #16162: when you cross the road to take a picture of an Apple pop-up store #sxsw  {link}\n",
      "Apple\n",
      "----------\n",
      "#Socialnews RT @mention Facebook can breathe a sigh of relief- Google kills plans 4 'Google Circles' {link} #sxsw\n",
      "nan\n",
      "----------\n",
      "N32: The Social Network {link} [codes valid: 12:00-3:59:59p 03/14/11] #infektd #sxsw #necro\n",
      "nan\n",
      "----------\n",
      "Just in time for #SXSW in #ATX, #Apple to open a pop-up store, @mention debuts cool #Amex partnership.  #SXSW doesn't even start till Fri\n",
      "Apple\n",
      "----------\n",
      "#ux  #uxdes talk is really about an exploration of the wild wild west of #iPad design. #sxsw\n",
      "nan\n",
      "----------\n",
      "Genius idea RT @mention Apple Popup Store at #SXSW {link}\n",
      "Apple\n",
      "----------\n",
      "Heading to Ballroom D to see google's marissa Mayer with @mention #sxsw\n",
      "nan\n",
      "----------\n",
      "Apple heads to SXSW, sets up temporary store in #Austin {link} #news #sxsw\n",
      "nan\n",
      "----------\n",
      "RT @mention First shots w/iPad 2 from #sxsw {link}\n",
      "nan\n",
      "----------\n",
      "Ha! Another mention for Apple Store: {link} - RT @mention Temporary #Apple store on 6th and Congress for #sxsw, along w...\n",
      "nan\n",
      "----------\n",
      "Hmmmm..... RT @mention Google to Launch Major New Social Network, &quot;Circles&quot; -possibly Today {link} #sxsw\n",
      "nan\n",
      "----------\n",
      "Just bought a #mophie juice pack for my iPhone! Solely because the cool kids were doing it. @mention @mention #sxsw\n",
      "Other Apple product or service\n",
      "----------\n",
      "is that like googling google? RT @mention *giggle* someone checked into me today on Gowalla  #SXSW #SXSWi\n",
      "nan\n",
      "----------\n",
      "The next fin serv battle is vs Apple, GOOG, Mobile operators. They have consumer loyalty and tons of cash (vs. Banks) #bankinnovate #SXSW\n",
      "nan\n",
      "----------\n",
      "@mention tell @mention to give out gummy worms, ya know, early bird gets the worm! Or free iPad 2s.. that'll work. #sxsw\n",
      "nan\n",
      "----------\n",
      "If you're at #SXSW and want an iPad 2, Apple's setting up a temporary store. Check it out! {link}\n",
      "nan\n",
      "----------\n",
      "Attending panel &quot;better living through cloud computing &quot; presented by Google's Jon Wiley. #sxsw\n",
      "nan\n",
      "----------\n",
      "There is nothing quite like #SXSW to make you want an iPad. Desperately. Am almost drooling on the guy's next to me.\n",
      "iPad\n",
      "----------\n",
      "Look everyone! Zomg @mention got an iPad 2 on the first day! #sxsw {link}\n",
      "iPad\n",
      "----------\n",
      "Checked the #SXSW Apple store line on the way here. Man, that line is long. :) #toolongforme\n",
      "Apple\n",
      "----------\n",
      "*NEW* WWW.DIVASANDDORKS.COM: Best Of Both Worlds: Apple Pop Up Store Invades SXSW {link} #sxsw\n",
      "Apple\n",
      "----------\n",
      "@mention Luckily @mention has a pop up store at #SXSW!\n",
      "nan\n",
      "----------\n",
      "RT @mention Media Circus: Guy walks out of Apple's popup store at #SXSW with 1st #iPad2 now. {link}\n",
      "nan\n",
      "----------\n",
      "RT @mention Apple Opening Temporary iPad 2 Store to Handle #SXSW Demand {link}\n",
      "nan\n",
      "----------\n",
      "It's official: We'll be presenting #Filmaster for #iPhone in the contest of world's best mobile apps at #SXSW !!! {link}\n",
      "iPad or iPhone App\n",
      "----------\n",
      "#technews One lone dude awaits iPad 2 at AppleÛªs SXSW store {link} #Tech_News #Apple #iPad_2 #SXSW #tablets #tech\n",
      "nan\n",
      "----------\n",
      "@mention Why? Google #SXSW Austin, Texas 2011! That's why!\n",
      "nan\n",
      "----------\n",
      "@mention at #sxsw: &quot;apple comes up with cool technology no one's ever heard of because they don't go to conferences&quot; (via @mention\n",
      "Apple\n",
      "----------\n",
      "Shipments daily - follow @mention #AppleATXdt 4 updates RT @mention Pop-up Apple Store seems to be out of pop-up iPad2s. #SXSW\n",
      "nan\n",
      "----------\n",
      "Whoa. RT @mention Google to Launch Major New Social Network Called Circles, Possibly Today {link} #sxsw\n",
      "Other Google product or service\n",
      "----------\n",
      "RT @mention Danfung Dennis will be demoing the immersive video rig and iPad platform used in To Hell &amp; Back Again at our #SXSW party\n",
      "nan\n",
      "----------\n",
      "Good morning, #SXSW. What r u talking abt on Twitter now according to @mention @mention ipad design, geogames and design headaches\n",
      "nan\n",
      "----------\n",
      "@mention @mention New #UberSocial for #iPhone now in the App Store includes UberGuide to #SXSW #Mashable {link}\n",
      "nan\n",
      "----------\n",
      "RT @mention Apple's doing a #sxsw pop up store for iPad2 sayeth @mention {link}\n",
      "nan\n",
      "----------\n",
      "What I journal with on my iPhone: RT @mention ** Momento is on SALE for #SXSW ** - Grab it now for just 59p / 99å¢! {link}\n",
      "iPhone\n",
      "----------\n",
      "RT @mention Google Art Project - like street view, except in art museums around the world. Incl. 7 BILLION pixel image of Starry Night. Dang! #sxsw\n",
      "Other Google product or service\n",
      "----------\n",
      "You should probably put that away... RT @mention at the Android party and kinda embarrassed by my iPhone #SXSW\n",
      "iPhone\n",
      "----------\n",
      "New #UberSocial for #iPhone now in the App Store includes UberGuide to #SXSW sponsored by #Mashable {link} @mention\n",
      "nan\n",
      "----------\n",
      "Cops playing w/ iPad 2 at closed Apple store Austin Congress st. #sxsw {link}\n",
      "nan\n",
      "----------\n",
      "#bjdproductions Before It Even Begins, #Apple Wins #SXSW {link} #tech\n",
      "Apple\n",
      "----------\n",
      "as the search from sxsw via twitter does not work, check out google's real time search, at least you get some results #sxsw\n",
      "Other Google product or service\n",
      "----------\n",
      "Google analytics can track offsite links as virtual page views using JavaScript. #moreknowledge #sxsw #mitharvard\n",
      "Other Google product or service\n",
      "----------\n",
      "It's not a rumor: Apple is opening up a temporary store in downtown Austin for #SXSW and the iPad 2 launch: It'... {link}\n",
      "Apple\n",
      "----------\n",
      "Video: iPad 2 Line Walk: Austin Texas. Did you get one today? - #SXSW {link}\n",
      "nan\n",
      "----------\n",
      "Apple set to open popup shop in core of SXSW action  - they're going to sell iPad2 at #SXSW! {link}\n",
      "iPad\n",
      "----------\n",
      "RT @mention The #iPad 2 Takes Over #SXSW [VIDEO] - {link} #sxswi\n",
      "iPad\n",
      "----------\n",
      "{link} Samsung Galaxy S II Appears At FCC And Team Android #SXSW Party {link} #android #followback\n",
      "nan\n",
      "----------\n",
      "RT @mention Barton Hollow is a free song download &amp; featured album on @mention @mention 2011 Featured Mix! {link} #iTunes #sxsw\n",
      "nan\n",
      "----------\n",
      "RT @mention Will Google preview a major new social service called Google Circles today at #SXSW {link}\n",
      "nan\n",
      "----------\n",
      "#Apple set to open popup shop in core of #SXSW action {link} via @mention\n",
      "nan\n",
      "----------\n",
      "RT @mention Google trying to fill void for local information with hotpot. If you own a biz, claim it and provide photos and more info. #sxsw\n",
      "nan\n",
      "----------\n",
      "After a week of #sxsw I have total iPad envy.  :)   #fb\n",
      "iPad\n",
      "----------\n",
      "RT @mention Google to launch new social network at SXSW? - CNET News {link} #sxsw\n",
      "Other Google product or service\n",
      "----------\n",
      "Unlike Google Analytics, this is meant to show to others and has sharing capabilities. #sxsw #bavcid\n",
      "nan\n",
      "----------\n",
      "RT @mention Tomlinson of TX Observer says Apple subscription data holding is biggest impediment to success. #newsapps #sxsw\n",
      "nan\n",
      "----------\n",
      "Woot! RT @mention First Android @mention disc {link} ... Market version coming soon! #SXSW\n",
      "Android\n",
      "----------\n",
      "RT @mention Apple fans. It looks like there will be a 3rd Apple store opening up in Austin for #SxSW if those are full, u can go2 1 of 4 in San Antonio.\n",
      "Apple\n",
      "----------\n",
      "RT @mention Apple announces pop-up store at #SXSW. See our take on the future of pop-up stores here: {link}\n",
      "nan\n",
      "----------\n",
      "I want one!! It's not a rumor: Apple is opening up a temporary store in downtown Austin for #SXSW and the iPad 2 launch {link}\n",
      "iPad\n",
      "----------\n",
      "My informal unscientific observation is that #Apple is by far the computer of choice at #SXSW. Hands down.  No contest.\n",
      "Apple\n",
      "----------\n",
      "RT @mention RT @mention Arriving in the US for #sxsw, will be looking for a MicroSIM for data in my iPhone // recommendations @mention\n",
      "nan\n",
      "----------\n",
      "Loved @mention Hangover Breakfast. Awesome swag, yummy food &amp; rockin tunes! Stoked about my Griffin cordless iphone charger! #SXSW\n",
      "Other Apple product or service\n",
      "----------\n",
      "Google Circles : won't be launched at #SXSW. Google even denies working on such a project : {link} #Facebook\n",
      "nan\n",
      "----------\n",
      "@mention Hmmm... thinking about borrowing an iPad from work for taking notes at #SXSW. Works well enough that I don't have to lug the MBP?\n",
      "nan\n",
      "----------\n",
      "From #Apple to Naomi Campbell: pop-up stores are all the rage: {link} #sxsw: From #Apple to Naomi Ca... {link}\n",
      "nan\n",
      "----------\n",
      "Brilliant and enlightening game mechanics presentation by @mention from Google #SXSW\n",
      "Google\n",
      "----------\n",
      "Come by Aquent Booth 1413 at #SXSW to learn about internetonlinewebsite.com, meet us &amp; enter to win an iPad 2!\n",
      "iPad\n",
      "----------\n",
      "If you haven't waited in line for an Apple product you're missing out on an important rite of passage.  #sxsw\n",
      "Apple\n",
      "----------\n",
      "10 iPhone Apps youÛªll Probably Need and Use During #SXSW {link}\n",
      "iPad or iPhone App\n",
      "----------\n",
      "Google Circles NOT being launched @mention #SXSW Interactive today {link} #bummer\n",
      "nan\n",
      "----------\n",
      "Latest Google maps mobile app demo #sxsw lots of stats. Drink the coolaid.\n",
      "nan\n",
      "----------\n",
      "RT @mention #SXSW sponsored by Apple, plaid, and boys I'm attracted to.\n",
      "nan\n",
      "----------\n",
      "Are you in town for #SXSW? Be sure to check in with us using Google Places and Foursquare for some kick ass deals! #foursquare #googleplaces\n",
      "Other Google product or service\n",
      "----------\n",
      "Temporary apple store opens at 5pm at 6th and congress. Line already growing. #iPad - view.io {link} via @mention #sxsw\n",
      "Apple\n",
      "----------\n",
      "IPad 2 in hand.  #SXSW # thisisdare\n",
      "nan\n",
      "----------\n",
      "Atomic Tom rocked at the CNN Grill Party. They're from Brooklyn. Google them. Also: the food and drinks are fantastic. #sxsw #sxswi\n",
      "nan\n",
      "----------\n",
      "At #SXSW conf and EVERYONE has a Mac or Ipad (including me). What happened to the PC? Is it becoming obsolete?\n",
      "iPad\n",
      "----------\n",
      "@mention What are the chances they'll have a booth selling new iPad 2s? #SXSW\n",
      "iPad\n",
      "----------\n",
      "RT @mention RT @mention Win an iPad2 by signing up here: {link} #sxsw #wantlet\n",
      "nan\n",
      "----------\n",
      "More than one million ratings per month on Google HotPot #SXSW ^pr\n",
      "nan\n",
      "----------\n",
      "Google street car at #SXSW.   @mention Brush Square Park {link}\n",
      "nan\n",
      "----------\n",
      "How many iPad2's do you think Apple could sell to sxsw attendees if they set up a pop-up store at the convention center? #sxsw\n",
      "nan\n",
      "----------\n",
      "This iPad keeps me awake. Thank god I bought it.... #SXSW\n",
      "iPad\n",
      "----------\n",
      "Lightbox Photos Wants To Be Your New Android Camera App (SXSW) {link} #Android #iPhone #NewAndroid #SXSW\n",
      "nan\n",
      "----------\n",
      "Great 3D XML visualization of skiers using Google location data. #sxsw\n",
      "Other Google product or service\n",
      "----------\n",
      "heading over with @mention shortly to record some video at the popup apple store at southby - expecting big ipad2 sales! #sxsw\n",
      "iPad\n",
      "----------\n",
      "I knew if I plied @mention with beer and stogies last night I'd weasel my way into the Team Android party tonight. #success #SXSW.\n",
      "Android\n",
      "----------\n",
      "RT @mention Team heading to Big Boi show, thanks to @mention crew. RT and find the owl for free tattoo {link} #sxsw\n",
      "nan\n",
      "----------\n",
      "@mention from @mention Apple plans to Keep Austin Wired, opening a pop-up Apple store just for #SXSWåÊ{link}\n",
      "nan\n",
      "----------\n",
      "Wish you went to #sxsw? We got you covered! Day 1 Recap {link} from Coyne's @mention and @mention\n",
      "nan\n",
      "----------\n",
      "@mention Have they provided any stats on Tablets? Or by specific platform (iPhone vs. Android)? #sxsw #cnngrill\n",
      "nan\n",
      "----------\n",
      "#tech #Apple Opening Pop-Up Store in Austin for #SXSW Geekfest [Apple] {link} #technology\n",
      "nan\n",
      "----------\n",
      "RT @mention If you're at #sxsw, meet our author, and a host of Android devs, Sat. at 12:30pm, Hilton room 615AB.\n",
      "nan\n",
      "----------\n",
      "RT @mention Apple opening popup store for iPad launch in downtown Austin during #SXSW {link} via @mention\n",
      "Apple\n",
      "----------\n",
      "Great panel w/guys fr @mention @mention @mention &amp; google hotpot! Social recs def not the end for recs. #discotalk #sxsw #sloanxsw\n",
      "nan\n",
      "----------\n",
      "#SXSW 2011: Demo Of Samsung TV Controlled By #Android Phone {link}\n",
      "nan\n",
      "----------\n",
      "LOVE my new iPhone case, featuring @mention RT @mention - @mention So glad you got case! #zazzlesxsw #SXSW {link}\n",
      "Other Apple product or service\n",
      "----------\n",
      "#SXSW Movie stars and moody directors are all well and fine, but the guy who's really attracting a crowd is the one showing off his iPad 2.\n",
      "iPad\n",
      "----------\n",
      "Google plays down social network Circles at #SxSW {link} - FB needs a rival, even if it's just to keep them on their toes\n",
      "Google\n",
      "----------\n",
      "Google Brain apologies for randy ads popping up with search results; algorithm skewed over weekend by randy queries from #SXSW attendees.\n",
      "nan\n",
      "----------\n",
      "FestivalExplorer iPhone App Finally Solves SXSW {link} #music #musica #musiek #musique #musik #app #sxsw #Ù_¾¬â #Ù_¾´_ #Î¥É\n",
      "iPad or iPhone App\n",
      "----------\n",
      "@mention they did?? Oh Apple you are so smart.  #sxsw\n",
      "Apple\n",
      "----------\n",
      "Google &amp; Bing- Website Ranking, with Danny Sullivan, Duane Forrester and Matt Cutts {link} #vizthink #sxsw #ogilvynotes\n",
      "nan\n",
      "----------\n",
      "I wish I was in Austin, if only for the free iPad 2s. #sxsw\n",
      "iPad\n",
      "----------\n",
      "RT @mention Google says the future is location, location, location: {link} #SXSW #CNN\n",
      "nan\n",
      "----------\n",
      "No surprise, the line for the Google &amp; Bing Q&amp;A is wrapped through the Austin Hilton. What would you ask, @mention #SXSW\n",
      "nan\n",
      "----------\n",
      "Apple to open temporary store at SXSW | TiPb {link} via @mention #SXSW\n",
      "nan\n",
      "----------\n",
      "RT @mention #Apple to Hawk iPad 2 at #SXSW Festival Popup Store!  {link}  by @mention\n",
      "Apple\n",
      "----------\n",
      "&quot;@mention Register for our private beta and to win an Apple TV during  #SXSW! Visit {link} for details&quot;\n",
      "nan\n",
      "----------\n",
      "#technews At SXSW, Apple schools the marketing experts {link} #Tech_News #Apple #Jobs_Co #SXSW #tech\n",
      "Apple\n",
      "----------\n",
      "#SXSW Interactive: GoogleÛªs Mobile Future, and the Elusive Û÷Power of Here' | @mention {link}\n",
      "nan\n",
      "----------\n",
      "@mention I saw that yesterday! Hoping that it won't b too crowded ;) #apple #ipad2 #sxsw\n",
      "nan\n",
      "----------\n",
      "Sweet. Danfung Dennis will be demoing the immersive video rig and iPad platform used in To Hell and Back Again at our #SXSW party.\n",
      "iPad\n",
      "----------\n",
      "RT @mention We're not launching any products at #SXSW but we're doing plenty else. [...]//Pensei que iriam lanÌ¤ar o Google Circles\n",
      "nan\n",
      "----------\n",
      "RT @mention We are excited to see HLS Dynamic Video Ad Insertion for TV Everywhere working on the #iPad2 later today at the #SXSW PopUp Apple Store\n",
      "iPad\n",
      "----------\n",
      "Debating which laptop to take to #SXSW when I'd rather be taking an iPad 2. #firstworldproblems\n",
      "iPad\n",
      "----------\n",
      "Ideas? RT: @mention Groups were challenged with coming up with an iPhone app to solve their parenting/start-up issues #sxsw\n",
      "nan\n",
      "----------\n",
      "RT @mention RT @mention It's not a rumor: Apple is opening up a temporary store in downtown Austin for #SXSW and the iPad 2 launch {link}\n",
      "nan\n",
      "----------\n"
     ]
    }
   ],
   "source": [
    "random_df  =  tweets_df.sample(n = 200)\n",
    "for i in range(len(random_df)):\n",
    "    print(random_df.iloc[i][0])\n",
    "    print(random_df.iloc[i][1])\n",
    "    print('----------')\n"
   ]
  },
  {
   "cell_type": "markdown",
   "id": "53e93900-b5be-4ce5-b26a-02617fbe373b",
   "metadata": {},
   "source": [
    "By observing and analyzing the above result , we can make some preliminary hypotheses: \n",
    "* The tweets don't follow a standard structure, they start sometimes with a mention, other times with an hashtag , and even with simple words directly.\n",
    "* The brands mentioned in the tweets aren't always simly identifiable,m especially when they are not preceded with an hashtag or a mention, which would make the task of replacing the missing value of the brands comumn harder .\n",
    "* The tweets contain some insignificant words/ characters, which are not useful and will be deleted"
   ]
  },
  {
   "cell_type": "markdown",
   "id": "29d00a05-906f-4ea7-a4a1-50a4c227d387",
   "metadata": {},
   "source": [
    "Let's take a look at our target column which is *is_there_an_emotion_directed_at_a_brand_or_product*, and explore the different classes:"
   ]
  },
  {
   "cell_type": "code",
   "execution_count": 7,
   "id": "9d4d7301-b1ab-41ba-803e-77c0e9ea35fd",
   "metadata": {},
   "outputs": [
    {
     "data": {
      "text/plain": [
       "is_there_an_emotion_directed_at_a_brand_or_product\n",
       "No emotion toward brand or product    5389\n",
       "Positive emotion                      2978\n",
       "Negative emotion                       570\n",
       "I can't tell                           156\n",
       "Name: count, dtype: int64"
      ]
     },
     "execution_count": 7,
     "metadata": {},
     "output_type": "execute_result"
    }
   ],
   "source": [
    "tweets_df['is_there_an_emotion_directed_at_a_brand_or_product'].value_counts()"
   ]
  },
  {
   "cell_type": "markdown",
   "id": "c30d08c7-b377-4bc1-8385-cb2641d300f0",
   "metadata": {},
   "source": [
    "It seems that we have 4 classes that rate the emotion expressed in the tweets. howevwr this classes are not well balances, especially the \"I can't tell\" one : there are so few of these values in comparison with the rest of the classes, and since it won't be so useful for our purpose, we will delete it later."
   ]
  },
  {
   "cell_type": "markdown",
   "id": "93c7fe8b-6d6e-4105-9831-1575543c0f8a",
   "metadata": {},
   "source": [
    "### <p style=\"text-align:left\"><span style=\"color:green\">Cleaning and preprocessing</span></p>"
   ]
  },
  {
   "cell_type": "code",
   "execution_count": 8,
   "id": "a9d1430c-8212-46b4-a797-14e9b7287b07",
   "metadata": {},
   "outputs": [],
   "source": [
    "tweets_df.rename(columns={'tweet_text': 'tweets', 'emotion_in_tweet_is_directed_at': 'brands', 'is_there_an_emotion_directed_at_a_brand_or_product': 'emotions'}, inplace=True)"
   ]
  },
  {
   "cell_type": "code",
   "execution_count": 9,
   "id": "062268c4-514c-4e05-933f-317379e2a969",
   "metadata": {},
   "outputs": [],
   "source": [
    "drop_indexes = tweets_df[(tweets_df['emotions'] == \"I can't tell\")].index\n",
    "tweets_df.drop(drop_indexes, inplace = True)\n",
    "tweets_df.dropna(subset = ['tweets'], inplace=True)"
   ]
  },
  {
   "cell_type": "code",
   "execution_count": 10,
   "id": "33b082d6-9890-45b6-9792-782c0a820782",
   "metadata": {},
   "outputs": [
    {
     "data": {
      "text/plain": [
       "tweets         0\n",
       "brands      5654\n",
       "emotions       0\n",
       "dtype: int64"
      ]
     },
     "execution_count": 10,
     "metadata": {},
     "output_type": "execute_result"
    }
   ],
   "source": [
    "tweets_df.isna().sum()"
   ]
  },
  {
   "cell_type": "code",
   "execution_count": 11,
   "id": "4900e888-5994-4cd4-9896-710f75e3a4c0",
   "metadata": {},
   "outputs": [
    {
     "data": {
      "text/plain": [
       "emotions\n",
       "No emotion toward brand or product    5388\n",
       "Positive emotion                      2978\n",
       "Negative emotion                       570\n",
       "Name: count, dtype: int64"
      ]
     },
     "execution_count": 11,
     "metadata": {},
     "output_type": "execute_result"
    }
   ],
   "source": [
    "tweets_df['emotions'].value_counts()"
   ]
  },
  {
   "cell_type": "code",
   "execution_count": 12,
   "id": "c891b665-d220-40bf-ac8f-4c0d20f5a18f",
   "metadata": {},
   "outputs": [
    {
     "data": {
      "text/plain": [
       "emotions\n",
       "No emotion toward brand or product    0.602954\n",
       "Positive emotion                      0.333259\n",
       "Negative emotion                      0.063787\n",
       "Name: proportion, dtype: float64"
      ]
     },
     "execution_count": 12,
     "metadata": {},
     "output_type": "execute_result"
    }
   ],
   "source": [
    "tweets_df['emotions'].value_counts(normalize = True)"
   ]
  },
  {
   "cell_type": "code",
   "execution_count": 13,
   "id": "331f3675-f6bc-410b-9742-4ad863f651e6",
   "metadata": {},
   "outputs": [
    {
     "data": {
      "image/png": "[encoded data removed]",
      "text/plain": [
       "<Figure size 300x500 with 1 Axes>"
      ]
     },
     "metadata": {},
     "output_type": "display_data"
    }
   ],
   "source": [
    "plt.figure(figsize=(3,5))\n",
    "# Create the classes percentages\n",
    "percentages = tweets_df['emotions'].value_counts(normalize = True)\n",
    "\n",
    "# Create bar plot with stacked bars\n",
    "plt.bar(0, percentages[0], label='No Emotion')\n",
    "plt.bar(0, percentages[1], bottom=percentages[0], label='Positive')\n",
    "plt.bar(0, percentages[2], bottom=sum(percentages[:2]), label='Negative')\n",
    "plt.legend(bbox_to_anchor=(1.7, 0.5), loc=\"center right\")\n",
    "\n",
    "# Set axis labels and title\n",
    "plt.xlabel('Emotions')\n",
    "plt.ylabel('Percentage')\n",
    "plt.title('Percentage of Emotion Classes')\n",
    "\n",
    "# Display the plot\n",
    "plt.show()"
   ]
  },
  {
   "cell_type": "code",
   "execution_count": 14,
   "id": "01e4563c-4dc2-4f3a-8e2f-3329c76a37f9",
   "metadata": {},
   "outputs": [
    {
     "data": {
      "image/png": "[encoded data removed]",
      "text/plain": [
       "<Figure size 800x600 with 1 Axes>"
      ]
     },
     "metadata": {},
     "output_type": "display_data"
    }
   ],
   "source": [
    "# Calculate the class percentages\n",
    "percentages = tweets_df['emotions'].value_counts(normalize=True)\n",
    "\n",
    "# Set the style to use Seaborn's color palette\n",
    "sns.set(style=\"whitegrid\")\n",
    "\n",
    "# Create a pie chart (circle plot)\n",
    "plt.figure(figsize=(8, 6))\n",
    "plt.pie(percentages, labels=percentages.index, autopct='%1.1f%%', startangle=140, colors=sns.color_palette(\"deep\"))\n",
    "\n",
    "# Set the title\n",
    "plt.title('Percentage of Emotion Classes')\n",
    "\n",
    "# Show the plot\n",
    "plt.show()"
   ]
  },
  {
   "cell_type": "code",
   "execution_count": 15,
   "id": "27aa91b5-d1b4-4c74-b546-cb3f2fe775df",
   "metadata": {},
   "outputs": [
    {
     "data": {
      "text/plain": [
       "brands\n",
       "iPad                               942\n",
       "Apple                              659\n",
       "iPad or iPhone App                 470\n",
       "Google                             429\n",
       "iPhone                             296\n",
       "Other Google product or service    292\n",
       "Android App                         81\n",
       "Android                             78\n",
       "Other Apple product or service      35\n",
       "Name: count, dtype: int64"
      ]
     },
     "execution_count": 15,
     "metadata": {},
     "output_type": "execute_result"
    }
   ],
   "source": [
    "tweets_df['brands'].value_counts()"
   ]
  },
  {
   "cell_type": "code",
   "execution_count": 16,
   "id": "bf376c76-1dec-4598-9e79-b96590a34f38",
   "metadata": {},
   "outputs": [
    {
     "data": {
      "text/plain": [
       "emotions                            brands                         \n",
       "Negative emotion                    iPad                               125\n",
       "                                    iPhone                             103\n",
       "                                    Apple                               95\n",
       "                                    Google                              68\n",
       "                                    iPad or iPhone App                  63\n",
       "                                    Other Google product or service     47\n",
       "                                    Android                              8\n",
       "                                    Android App                          8\n",
       "                                    Other Apple product or service       2\n",
       "No emotion toward brand or product  iPad                                24\n",
       "                                    Apple                               21\n",
       "                                    Google                              15\n",
       "                                    iPad or iPhone App                  10\n",
       "                                    Other Google product or service      9\n",
       "                                    iPhone                               9\n",
       "                                    Android App                          1\n",
       "                                    Android                              1\n",
       "                                    Other Apple product or service       1\n",
       "Positive emotion                    iPad                               793\n",
       "                                    Apple                              543\n",
       "                                    iPad or iPhone App                 397\n",
       "                                    Google                             346\n",
       "                                    Other Google product or service    236\n",
       "                                    iPhone                             184\n",
       "                                    Android App                         72\n",
       "                                    Android                             69\n",
       "                                    Other Apple product or service      32\n",
       "Name: count, dtype: int64"
      ]
     },
     "execution_count": 16,
     "metadata": {},
     "output_type": "execute_result"
    }
   ],
   "source": [
    "grouped_by_emotions = tweets_df.groupby(['emotions'])['brands'].value_counts()\n",
    "grouped_by_emotions"
   ]
  },
  {
   "cell_type": "code",
   "execution_count": 17,
   "id": "2d271847-76bc-4468-842d-9ce9c6c9a128",
   "metadata": {},
   "outputs": [
    {
     "data": {
      "text/plain": [
       "<Axes: ylabel='brands'>"
      ]
     },
     "execution_count": 17,
     "metadata": {},
     "output_type": "execute_result"
    },
    {
     "data": {
      "image/png": "[encoded data removed]",
      "text/plain": [
       "<Figure size 640x480 with 1 Axes>"
      ]
     },
     "metadata": {},
     "output_type": "display_data"
    }
   ],
   "source": [
    "grouped_by_emotions['Positive emotion'].sort_values().plot(kind='barh', stacked=True)"
   ]
  },
  {
   "cell_type": "code",
   "execution_count": 18,
   "id": "7d77ef3b-1f1c-48bb-b211-21c8d4eec1de",
   "metadata": {},
   "outputs": [
    {
     "data": {
      "text/plain": [
       "<Axes: ylabel='brands'>"
      ]
     },
     "execution_count": 18,
     "metadata": {},
     "output_type": "execute_result"
    },
    {
     "data": {
      "image/png": "[encoded data removed]",
      "text/plain": [
       "<Figure size 640x480 with 1 Axes>"
      ]
     },
     "metadata": {},
     "output_type": "display_data"
    }
   ],
   "source": [
    "grouped_by_emotions['Negative emotion'].sort_values().plot(kind='barh', stacked=True)"
   ]
  },
  {
   "cell_type": "code",
   "execution_count": null,
   "id": "df44e536-0e7f-44cc-9d1a-abb38bf0b991",
   "metadata": {},
   "outputs": [],
   "source": []
  },
  {
   "cell_type": "code",
   "execution_count": 19,
   "id": "9743db54-baa5-4d31-b847-7e63710d6c96",
   "metadata": {},
   "outputs": [
    {
     "data": {
      "image/png": "[encoded data removed]",
      "text/plain": [
       "<Figure size 1200x600 with 1 Axes>"
      ]
     },
     "metadata": {},
     "output_type": "display_data"
    }
   ],
   "source": [
    "# Group the data by 'brands' and 'emotions' and calculate the count of each combination\n",
    "grouped = tweets_df.groupby(['brands', 'emotions']).size().unstack()\n",
    "\n",
    "# Calculate the total count of each brand\n",
    "total_counts = grouped.sum(axis=1)\n",
    "\n",
    "# Calculate the percentages\n",
    "percentage_data = grouped.div(total_counts, axis=0) * 100\n",
    "\n",
    "# Sort the DataFrame by the percentage of positive emotion in descending order\n",
    "sorted_percentage_data = percentage_data.sort_values(by='Positive emotion', ascending=False)\n",
    "\n",
    "# Create a stacked bar plot\n",
    "ax = sorted_percentage_data.plot(kind='bar', stacked=True, figsize=(12, 6))\n",
    "ax.set_xlabel('Brand')\n",
    "ax.set_ylabel('Percentage')\n",
    "ax.set_title('Percentage of Positive Emotions for Each Brand (Sorted)')\n",
    "plt.xticks(rotation=45, ha='right')  # Rotate x-axis labels for better readability\n",
    "\n",
    "# Add a legend\n",
    "plt.legend(title='Emotions', bbox_to_anchor=(1.05, 1), loc='upper left')\n",
    "\n",
    "plt.tight_layout()\n",
    "plt.show()"
   ]
  },
  {
   "cell_type": "markdown",
   "id": "1afc1f76-30d6-4621-a022-0a46f1756d26",
   "metadata": {},
   "source": [
    "Viz the destribution of each class in the traget"
   ]
  },
  {
   "cell_type": "code",
   "execution_count": 20,
   "id": "3a05cd06-66e1-4291-a1e7-8df7268bbce7",
   "metadata": {},
   "outputs": [
    {
     "data": {
      "image/png": "[encoded data removed]",
      "text/plain": [
       "<Figure size 1000x600 with 1 Axes>"
      ]
     },
     "metadata": {},
     "output_type": "display_data"
    }
   ],
   "source": [
    "plt.figure(figsize=(10, 6))\n",
    "\n",
    "# Create the histogram plot with custom parameters\n",
    "sns.histplot(data=tweets_df, x='emotions')\n",
    "\n",
    "# Add labels and title for better understanding\n",
    "plt.xlabel('Emotions', fontsize=12)\n",
    "plt.ylabel('Count', fontsize=12)\n",
    "plt.title('Distribution of Emotions in Tweets', fontsize=14)\n",
    "\n",
    "# Display the plot\n",
    "plt.show()"
   ]
  },
  {
   "cell_type": "code",
   "execution_count": 21,
   "id": "ed608fc8-1bf4-4b01-bc97-bdf79dddf395",
   "metadata": {},
   "outputs": [
    {
     "data": {
      "text/html": [
       "<div>\n",
       "<style scoped>\n",
       "    .dataframe tbody tr th:only-of-type {\n",
       "        vertical-align: middle;\n",
       "    }\n",
       "\n",
       "    .dataframe tbody tr th {\n",
       "        vertical-align: top;\n",
       "    }\n",
       "\n",
       "    .dataframe thead th {\n",
       "        text-align: right;\n",
       "    }\n",
       "</style>\n",
       "<table border=\"1\" class=\"dataframe\">\n",
       "  <thead>\n",
       "    <tr style=\"text-align: right;\">\n",
       "      <th></th>\n",
       "      <th>tweets</th>\n",
       "      <th>brands</th>\n",
       "      <th>emotions</th>\n",
       "    </tr>\n",
       "  </thead>\n",
       "  <tbody>\n",
       "    <tr>\n",
       "      <th>0</th>\n",
       "      <td>.@wesley83 I have a 3G iPhone. After 3 hrs twe...</td>\n",
       "      <td>iPhone</td>\n",
       "      <td>Negative emotion</td>\n",
       "    </tr>\n",
       "    <tr>\n",
       "      <th>1</th>\n",
       "      <td>@jessedee Know about @fludapp ? Awesome iPad/i...</td>\n",
       "      <td>iPad or iPhone App</td>\n",
       "      <td>Positive emotion</td>\n",
       "    </tr>\n",
       "    <tr>\n",
       "      <th>2</th>\n",
       "      <td>@swonderlin Can not wait for #iPad 2 also. The...</td>\n",
       "      <td>iPad</td>\n",
       "      <td>Positive emotion</td>\n",
       "    </tr>\n",
       "    <tr>\n",
       "      <th>3</th>\n",
       "      <td>@sxsw I hope this year's festival isn't as cra...</td>\n",
       "      <td>iPad or iPhone App</td>\n",
       "      <td>Negative emotion</td>\n",
       "    </tr>\n",
       "    <tr>\n",
       "      <th>4</th>\n",
       "      <td>@sxtxstate great stuff on Fri #SXSW: Marissa M...</td>\n",
       "      <td>Google</td>\n",
       "      <td>Positive emotion</td>\n",
       "    </tr>\n",
       "    <tr>\n",
       "      <th>...</th>\n",
       "      <td>...</td>\n",
       "      <td>...</td>\n",
       "      <td>...</td>\n",
       "    </tr>\n",
       "    <tr>\n",
       "      <th>9088</th>\n",
       "      <td>Ipad everywhere. #SXSW {link}</td>\n",
       "      <td>iPad</td>\n",
       "      <td>Positive emotion</td>\n",
       "    </tr>\n",
       "    <tr>\n",
       "      <th>9089</th>\n",
       "      <td>Wave, buzz... RT @mention We interrupt your re...</td>\n",
       "      <td>NaN</td>\n",
       "      <td>No emotion toward brand or product</td>\n",
       "    </tr>\n",
       "    <tr>\n",
       "      <th>9090</th>\n",
       "      <td>Google's Zeiger, a physician never reported po...</td>\n",
       "      <td>NaN</td>\n",
       "      <td>No emotion toward brand or product</td>\n",
       "    </tr>\n",
       "    <tr>\n",
       "      <th>9091</th>\n",
       "      <td>Some Verizon iPhone customers complained their...</td>\n",
       "      <td>NaN</td>\n",
       "      <td>No emotion toward brand or product</td>\n",
       "    </tr>\n",
       "    <tr>\n",
       "      <th>9092</th>\n",
       "      <td>Ï¡Ïàü_ÊÎÒ£Áââ_£â_ÛâRT @...</td>\n",
       "      <td>NaN</td>\n",
       "      <td>No emotion toward brand or product</td>\n",
       "    </tr>\n",
       "  </tbody>\n",
       "</table>\n",
       "<p>8936 rows × 3 columns</p>\n",
       "</div>"
      ],
      "text/plain": [
       "                                                 tweets              brands  \\\n",
       "0     .@wesley83 I have a 3G iPhone. After 3 hrs twe...              iPhone   \n",
       "1     @jessedee Know about @fludapp ? Awesome iPad/i...  iPad or iPhone App   \n",
       "2     @swonderlin Can not wait for #iPad 2 also. The...                iPad   \n",
       "3     @sxsw I hope this year's festival isn't as cra...  iPad or iPhone App   \n",
       "4     @sxtxstate great stuff on Fri #SXSW: Marissa M...              Google   \n",
       "...                                                 ...                 ...   \n",
       "9088                      Ipad everywhere. #SXSW {link}                iPad   \n",
       "9089  Wave, buzz... RT @mention We interrupt your re...                 NaN   \n",
       "9090  Google's Zeiger, a physician never reported po...                 NaN   \n",
       "9091  Some Verizon iPhone customers complained their...                 NaN   \n",
       "9092  Ï¡Ïàü_ÊÎÒ£Áââ_£â_ÛâRT @...                 NaN   \n",
       "\n",
       "                                emotions  \n",
       "0                       Negative emotion  \n",
       "1                       Positive emotion  \n",
       "2                       Positive emotion  \n",
       "3                       Negative emotion  \n",
       "4                       Positive emotion  \n",
       "...                                  ...  \n",
       "9088                    Positive emotion  \n",
       "9089  No emotion toward brand or product  \n",
       "9090  No emotion toward brand or product  \n",
       "9091  No emotion toward brand or product  \n",
       "9092  No emotion toward brand or product  \n",
       "\n",
       "[8936 rows x 3 columns]"
      ]
     },
     "execution_count": 21,
     "metadata": {},
     "output_type": "execute_result"
    }
   ],
   "source": [
    "tweets_df"
   ]
  },
  {
   "cell_type": "code",
   "execution_count": 22,
   "id": "293115ba-b4d9-406e-8434-345ca175848e",
   "metadata": {},
   "outputs": [
    {
     "name": "stdout",
     "output_type": "stream",
     "text": [
      "{'Negative emotion': 18.756140350877192, 'Positive emotion': 18.180658159838817, 'No emotion toward brand or product': 17.43504083147736}\n"
     ]
    }
   ],
   "source": [
    "# WORD-COUNT\n",
    "dataframe = tweets_df.copy(deep=True)\n",
    "dataframe['word_count'] = dataframe['tweets'].apply(lambda x: len(str(x).split()))\n",
    "\n",
    "dict_emotions_wordcount = {}\n",
    "emotions_names = list(dataframe.emotions.unique())\n",
    "\n",
    "for emotion in emotions_names:\n",
    "    mean_word_count = dataframe[dataframe['emotions'] == emotion]['word_count'].mean()\n",
    "    dict_emotions_wordcount[emotion] = mean_word_count\n",
    "\n",
    "# Print the dictionary containing emotions and their corresponding average word count\n",
    "print(dict_emotions_wordcount)\n"
   ]
  },
  {
   "cell_type": "code",
   "execution_count": 23,
   "id": "380dcca0-c741-474d-9dcb-ef35fee8ac36",
   "metadata": {},
   "outputs": [
    {
     "name": "stdout",
     "output_type": "stream",
     "text": [
      "Negative emotion  :  18.756140350877192\n",
      "Positive emotion  :  18.180658159838817\n",
      "No emotion toward brand or product  :  17.43504083147736\n"
     ]
    }
   ],
   "source": [
    "for key, value in dict_emotions_wordcount.items():\n",
    "    print(key, ' : ', value)"
   ]
  },
  {
   "cell_type": "code",
   "execution_count": 24,
   "id": "8aa6b0f8-72f3-464a-a3ba-5210ac833062",
   "metadata": {},
   "outputs": [
    {
     "data": {
      "image/png": "[encoded data removed]",
      "text/plain": [
       "<Figure size 2000x400 with 3 Axes>"
      ]
     },
     "metadata": {},
     "output_type": "display_data"
    }
   ],
   "source": [
    "# Define colors for the plots\n",
    "colors = ['#FF6347', '#87CEEB', '#FFD700']\n",
    "\n",
    "# PLOTTING WORD-COUNT\n",
    "fig, (ax1, ax2, ax3) = plt.subplots(1, 3, figsize=(20, 4))\n",
    "\n",
    "# Extract sentences for each emotion category\n",
    "negative_emotion_sentences = dataframe[dataframe['emotions'].str.contains(\"Negative emotion\")]['tweets']\n",
    "ax1.hist(negative_emotion_sentences.apply(lambda x: len(x.split())), color=colors[0], alpha=0.7)\n",
    "ax1.set_title('Negative Emotion Sentences', fontsize=14)\n",
    "\n",
    "positive_emotion_sentences = dataframe[dataframe['emotions'].str.contains(\"Positive emotion\")]['tweets']\n",
    "ax2.hist(positive_emotion_sentences.apply(lambda x: len(x.split())), color=colors[1], alpha=0.7)\n",
    "ax2.set_title('Positive Emotion Sentences', fontsize=14)\n",
    "\n",
    "no_emotions_sentences = dataframe[dataframe['emotions'].str.contains(\"No emotion\")]['tweets']\n",
    "ax3.hist(no_emotions_sentences.apply(lambda x: len(x.split())), color=colors[2], alpha=0.7)\n",
    "ax3.set_title('No Emotion Sentences', fontsize=14)\n",
    "\n",
    "# Set common title for the subplots\n",
    "fig.suptitle('Words per Sentence', fontsize=16)\n",
    "\n",
    "# Set common x and y labels for subplots\n",
    "for ax in [ax1, ax2, ax3]:\n",
    "    ax.set_xlabel('Number of Words', fontsize=12)\n",
    "    ax.set_ylabel('Frequency', fontsize=12)\n",
    "    ax.tick_params(axis='both', labelsize=10)\n",
    "\n",
    "# Adjust layout for better spacing between subplots\n",
    "plt.tight_layout()\n",
    "\n",
    "# Display the plot\n",
    "plt.show()"
   ]
  },
  {
   "cell_type": "markdown",
   "id": "6bc9cdeb-c53d-487e-a4a4-7f1d3e502994",
   "metadata": {},
   "source": [
    "### 5️⃣  `Data Preprocessing ` :\n",
    "\n",
    "> Our data generally comes from a variety of different sources and is often in a variety of different formats. For this reason, cleaning our raw data is an essential part of preparing our dataset. However, cleaning is not a simple process, as textual data often contains redundant and/or repetitive words.\n",
    "\n",
    "> Before training the model, we will perform various pre-processing steps on the dataset such as: \n",
    ">- Converting the text document to lowercase for better generalization.\n",
    ">- Removing stop words.\n",
    ">- Removing emojis. \n",
    ">- Removing of mentions & hastags.\n",
    ">- Removal of numbers.\n",
    ">- Removal of whitespaces.\n",
    ">- Cleaning the ponctuation (to reduce unnecessary noise from the dataset).\n",
    ">- Removing the repeating characters from the words along with removing the URLs/hyperlinks as they do not have any significant importance. <br>                          \n",
    "and much more, we will see this in detail later...\n",
    "\n",
    "> We will then performe:\n",
    ">- **`Stemming`** : reducing the words to their derived stems.\n",
    ">- **`Lemmatization`** : reducing the derived words to their root form known as lemma for better results."
   ]
  },
  {
   "cell_type": "markdown",
   "id": "5ed19bd2-0a0b-49a4-88dc-1c9892a51d64",
   "metadata": {},
   "source": [
    "> - **`Lowering Case`**:\n",
    "\n",
    "Lowering case is very imprtant since it allows us to make words with same value equal. This will be very useful to reduce the dimensions of our vocabulary."
   ]
  },
  {
   "cell_type": "markdown",
   "id": "98791307-cd8b-4f72-bd82-57e52249ea8f",
   "metadata": {},
   "source": [
    "> - **`Removal of Mentions`**:\n",
    "\n",
    "In social media, Mentions are used to call/mention another user into our post. Generally, mentions don't have an added value to our model. So we will remove them.\n",
    "\n",
    "A mention has a special pattern: **@UserName** or  **#UserName**, So we will remove all string which starts with @"
   ]
  },
  {
   "cell_type": "markdown",
   "id": "e89d2a70-24ab-4bcd-b188-df757216b5a5",
   "metadata": {},
   "source": [
    " > - **`Removal of Special Characters`**:\n",
    " \n",
    "Special characters are every where, since we have punctuation marks in our tweets. In order to treat, for example, **hello!** and **hello** in the same way.  we have to remove the punctuation mark **!**"
   ]
  },
  {
   "cell_type": "code",
   "execution_count": 25,
   "id": "66eae739-f87d-4c63-a6b6-93c358d075e8",
   "metadata": {},
   "outputs": [],
   "source": [
    "# Function to remove mentions (usernames starting with @ and hashtags starting with #)\n",
    "def remove_mentions(text):\n",
    "    text = re.sub(r\"@\\S+|#\\S+\", \"\", text)\n",
    "    return text\n",
    "\n",
    "# Function to remove punctuations, special characters, and symbols\n",
    "def remove_punctuations(text):\n",
    "    punct = re.compile(\"[@$#.;:!?_/,{}\\-\\\\\\\"()\\[\\]]\")\n",
    "    text = punct.sub(\" \", text)\n",
    "    return re.sub(r\"\\'\", \" \", text)\n",
    "\n",
    "# Function to remove small words (1 and 2 characters)\n",
    "def remove_small_words(text):\n",
    "    text = re.sub(r\"\\b\\w{1,3}\\b\", \" \", text)\n",
    "    return text\n",
    "\n",
    "# Function to remove hyperlinks starting with http or https\n",
    "def remove_links(text):\n",
    "    return re.sub(r\"http\\S+\", \" \", text)\n",
    "\n",
    "# Function to remove numbers\n",
    "def remove_numbers(text):\n",
    "    return re.sub(r\"[0-9]+\", \" \" , text)\n",
    "\n",
    "# Function to remove placeholder \"{link}\" with an empty string\n",
    "def remove_link_placeholder(text):\n",
    "    text = re.sub(r\"\\b(?:sxsw|mention)\\b\", \" \", text)\n",
    "    return re.sub(r'\\{link\\}', '', text)\n",
    "    \n",
    "\n",
    "# Function to remove extra whitespaces and leading/trailing whitespaces\n",
    "def remove_whitespaces(text):\n",
    "    text = text.strip()\n",
    "    return re.sub(r\" +\", \" \", text)\n",
    "\n",
    "# Main processing function\n",
    "def process(data):\n",
    "    # Convert text to lowercase\n",
    "    data = data.str.lower()\n",
    "    # Apply functions sequentially to the data\n",
    "    data = data.apply(remove_link_placeholder)\n",
    "    data = data.apply(remove_punctuations)\n",
    "    data = data.apply(remove_mentions)\n",
    "    # Remove stopwords using NLTK library\n",
    "    stop_words = set(stopwords.words('english'))\n",
    "    data = data.apply(lambda x: ' '.join(word for word in x.split() if word not in stop_words))\n",
    "    data = data.apply(remove_links)\n",
    "    data = data.apply(remove_numbers)\n",
    "    data = data.apply(remove_small_words)\n",
    "    data = data.apply(remove_whitespaces)\n",
    "    return data\n"
   ]
  },
  {
   "cell_type": "code",
   "execution_count": 26,
   "id": "ebfc37df-73c7-4a47-8750-732c539bcc0d",
   "metadata": {},
   "outputs": [],
   "source": [
    "tweets_df['tweets_processed'] = process(tweets_df['tweets'])"
   ]
  },
  {
   "cell_type": "code",
   "execution_count": 27,
   "id": "ef1112da-537b-47ae-a08e-3e65f28dbcab",
   "metadata": {},
   "outputs": [
    {
     "data": {
      "text/html": [
       "<div>\n",
       "<style scoped>\n",
       "    .dataframe tbody tr th:only-of-type {\n",
       "        vertical-align: middle;\n",
       "    }\n",
       "\n",
       "    .dataframe tbody tr th {\n",
       "        vertical-align: top;\n",
       "    }\n",
       "\n",
       "    .dataframe thead th {\n",
       "        text-align: right;\n",
       "    }\n",
       "</style>\n",
       "<table border=\"1\" class=\"dataframe\">\n",
       "  <thead>\n",
       "    <tr style=\"text-align: right;\">\n",
       "      <th></th>\n",
       "      <th>tweets</th>\n",
       "      <th>brands</th>\n",
       "      <th>emotions</th>\n",
       "      <th>tweets_processed</th>\n",
       "    </tr>\n",
       "  </thead>\n",
       "  <tbody>\n",
       "    <tr>\n",
       "      <th>0</th>\n",
       "      <td>.@wesley83 I have a 3G iPhone. After 3 hrs twe...</td>\n",
       "      <td>iPhone</td>\n",
       "      <td>Negative emotion</td>\n",
       "      <td>wesley iphone tweeting rise austin dead need u...</td>\n",
       "    </tr>\n",
       "    <tr>\n",
       "      <th>1</th>\n",
       "      <td>@jessedee Know about @fludapp ? Awesome iPad/i...</td>\n",
       "      <td>iPad or iPhone App</td>\n",
       "      <td>Positive emotion</td>\n",
       "      <td>jessedee know fludapp awesome ipad iphone like...</td>\n",
       "    </tr>\n",
       "    <tr>\n",
       "      <th>2</th>\n",
       "      <td>@swonderlin Can not wait for #iPad 2 also. The...</td>\n",
       "      <td>iPad</td>\n",
       "      <td>Positive emotion</td>\n",
       "      <td>swonderlin wait ipad also sale</td>\n",
       "    </tr>\n",
       "    <tr>\n",
       "      <th>3</th>\n",
       "      <td>@sxsw I hope this year's festival isn't as cra...</td>\n",
       "      <td>iPad or iPhone App</td>\n",
       "      <td>Negative emotion</td>\n",
       "      <td>hope year festival crashy year iphone</td>\n",
       "    </tr>\n",
       "    <tr>\n",
       "      <th>4</th>\n",
       "      <td>@sxtxstate great stuff on Fri #SXSW: Marissa M...</td>\n",
       "      <td>Google</td>\n",
       "      <td>Positive emotion</td>\n",
       "      <td>sxtxstate great stuff marissa mayer google rei...</td>\n",
       "    </tr>\n",
       "    <tr>\n",
       "      <th>...</th>\n",
       "      <td>...</td>\n",
       "      <td>...</td>\n",
       "      <td>...</td>\n",
       "      <td>...</td>\n",
       "    </tr>\n",
       "    <tr>\n",
       "      <th>9088</th>\n",
       "      <td>Ipad everywhere. #SXSW {link}</td>\n",
       "      <td>iPad</td>\n",
       "      <td>Positive emotion</td>\n",
       "      <td>ipad everywhere</td>\n",
       "    </tr>\n",
       "    <tr>\n",
       "      <th>9089</th>\n",
       "      <td>Wave, buzz... RT @mention We interrupt your re...</td>\n",
       "      <td>NaN</td>\n",
       "      <td>No emotion toward brand or product</td>\n",
       "      <td>wave buzz interrupt regularly scheduled geek p...</td>\n",
       "    </tr>\n",
       "    <tr>\n",
       "      <th>9090</th>\n",
       "      <td>Google's Zeiger, a physician never reported po...</td>\n",
       "      <td>NaN</td>\n",
       "      <td>No emotion toward brand or product</td>\n",
       "      <td>google zeiger physician never reported potenti...</td>\n",
       "    </tr>\n",
       "    <tr>\n",
       "      <th>9091</th>\n",
       "      <td>Some Verizon iPhone customers complained their...</td>\n",
       "      <td>NaN</td>\n",
       "      <td>No emotion toward brand or product</td>\n",
       "      <td>verizon iphone customers complained time fell ...</td>\n",
       "    </tr>\n",
       "    <tr>\n",
       "      <th>9092</th>\n",
       "      <td>Ï¡Ïàü_ÊÎÒ£Áââ_£â_ÛâRT @...</td>\n",
       "      <td>NaN</td>\n",
       "      <td>No emotion toward brand or product</td>\n",
       "      <td> ¡     £   £ ûârt googl...</td>\n",
       "    </tr>\n",
       "  </tbody>\n",
       "</table>\n",
       "<p>8936 rows × 4 columns</p>\n",
       "</div>"
      ],
      "text/plain": [
       "                                                 tweets              brands  \\\n",
       "0     .@wesley83 I have a 3G iPhone. After 3 hrs twe...              iPhone   \n",
       "1     @jessedee Know about @fludapp ? Awesome iPad/i...  iPad or iPhone App   \n",
       "2     @swonderlin Can not wait for #iPad 2 also. The...                iPad   \n",
       "3     @sxsw I hope this year's festival isn't as cra...  iPad or iPhone App   \n",
       "4     @sxtxstate great stuff on Fri #SXSW: Marissa M...              Google   \n",
       "...                                                 ...                 ...   \n",
       "9088                      Ipad everywhere. #SXSW {link}                iPad   \n",
       "9089  Wave, buzz... RT @mention We interrupt your re...                 NaN   \n",
       "9090  Google's Zeiger, a physician never reported po...                 NaN   \n",
       "9091  Some Verizon iPhone customers complained their...                 NaN   \n",
       "9092  Ï¡Ïàü_ÊÎÒ£Áââ_£â_ÛâRT @...                 NaN   \n",
       "\n",
       "                                emotions  \\\n",
       "0                       Negative emotion   \n",
       "1                       Positive emotion   \n",
       "2                       Positive emotion   \n",
       "3                       Negative emotion   \n",
       "4                       Positive emotion   \n",
       "...                                  ...   \n",
       "9088                    Positive emotion   \n",
       "9089  No emotion toward brand or product   \n",
       "9090  No emotion toward brand or product   \n",
       "9091  No emotion toward brand or product   \n",
       "9092  No emotion toward brand or product   \n",
       "\n",
       "                                       tweets_processed  \n",
       "0     wesley iphone tweeting rise austin dead need u...  \n",
       "1     jessedee know fludapp awesome ipad iphone like...  \n",
       "2                        swonderlin wait ipad also sale  \n",
       "3                 hope year festival crashy year iphone  \n",
       "4     sxtxstate great stuff marissa mayer google rei...  \n",
       "...                                                 ...  \n",
       "9088                                    ipad everywhere  \n",
       "9089  wave buzz interrupt regularly scheduled geek p...  \n",
       "9090  google zeiger physician never reported potenti...  \n",
       "9091  verizon iphone customers complained time fell ...  \n",
       "9092   ¡     £   £ ûârt googl...  \n",
       "\n",
       "[8936 rows x 4 columns]"
      ]
     },
     "execution_count": 27,
     "metadata": {},
     "output_type": "execute_result"
    }
   ],
   "source": [
    "tweets_df"
   ]
  },
  {
   "cell_type": "code",
   "execution_count": null,
   "id": "92379e1a-399b-48d6-b745-d96bdf58f75f",
   "metadata": {},
   "outputs": [],
   "source": []
  },
  {
   "cell_type": "code",
   "execution_count": 28,
   "id": "034a05c8-e776-484f-95ec-1413516a1921",
   "metadata": {},
   "outputs": [],
   "source": [
    "from nltk.tokenize import word_tokenize\n",
    "\n",
    "tweets_df['tweets_tokenized'] = tweets_df['tweets_processed'].apply(word_tokenize)"
   ]
  },
  {
   "cell_type": "code",
   "execution_count": 29,
   "id": "f4345e54-7b51-4ee1-8ea7-8ba0c2727758",
   "metadata": {},
   "outputs": [],
   "source": [
    "# Convert 'brands' column to lowercase and drop duplicates\n",
    "brands = set(tweets_df['brands'].dropna().str.lower().unique())\n",
    "tweets_df['brands'] = tweets_df['brands'].str.lower()\n",
    "def fill_brands(tweet_tokenized):\n",
    "    # Use set intersection to find common elements between brands and tweet_tokenized\n",
    "    matching_brands = set(tweet_tokenized) & brands\n",
    "    # Sort the brand names and join them\n",
    "    return \" or \".join(sorted(matching_brands))\n",
    "\n",
    "# Apply fill_brands function to 'tweets_tokenized' and fill NaN values in 'brands' column\n",
    "tweets_df['brands'] = tweets_df['brands'].fillna(tweets_df['tweets_tokenized'].apply(fill_brands))\n"
   ]
  },
  {
   "cell_type": "code",
   "execution_count": 30,
   "id": "8a42c854-a1ee-4946-a284-e97e3ba3f540",
   "metadata": {},
   "outputs": [
    {
     "data": {
      "text/plain": [
       "{'android',\n",
       " 'android app',\n",
       " 'apple',\n",
       " 'google',\n",
       " 'ipad',\n",
       " 'ipad or iphone app',\n",
       " 'iphone',\n",
       " 'other apple product or service',\n",
       " 'other google product or service'}"
      ]
     },
     "execution_count": 30,
     "metadata": {},
     "output_type": "execute_result"
    }
   ],
   "source": [
    "brands"
   ]
  },
  {
   "cell_type": "code",
   "execution_count": 31,
   "id": "2796a0d5-ae39-42dc-99fe-6aa59706398a",
   "metadata": {
    "scrolled": true
   },
   "outputs": [
    {
     "data": {
      "text/plain": [
       "brands\n",
       "google                             2073\n",
       "ipad                               1891\n",
       "apple                              1367\n",
       "iphone                              981\n",
       "                                    772\n",
       "ipad or iphone app                  470\n",
       "apple or ipad                       438\n",
       "other google product or service     292\n",
       "android                             286\n",
       "android or iphone                   110\n",
       "android app                          81\n",
       "ipad or iphone                       59\n",
       "other apple product or service       35\n",
       "android or ipad                      20\n",
       "apple or google                      13\n",
       "android or google                    13\n",
       "apple or iphone                      11\n",
       "android or ipad or iphone             9\n",
       "google or ipad                        5\n",
       "android or apple                      5\n",
       "google or iphone                      2\n",
       "android or apple or iphone            1\n",
       "google or ipad or iphone              1\n",
       "apple or ipad or iphone               1\n",
       "Name: count, dtype: int64"
      ]
     },
     "execution_count": 31,
     "metadata": {},
     "output_type": "execute_result"
    }
   ],
   "source": [
    "tweets_df['brands'].value_counts()"
   ]
  },
  {
   "cell_type": "code",
   "execution_count": 32,
   "id": "678b0af2-8f42-4aa7-bc23-8c63ce65f917",
   "metadata": {},
   "outputs": [
    {
     "data": {
      "text/html": [
       "<div>\n",
       "<style scoped>\n",
       "    .dataframe tbody tr th:only-of-type {\n",
       "        vertical-align: middle;\n",
       "    }\n",
       "\n",
       "    .dataframe tbody tr th {\n",
       "        vertical-align: top;\n",
       "    }\n",
       "\n",
       "    .dataframe thead th {\n",
       "        text-align: right;\n",
       "    }\n",
       "</style>\n",
       "<table border=\"1\" class=\"dataframe\">\n",
       "  <thead>\n",
       "    <tr style=\"text-align: right;\">\n",
       "      <th></th>\n",
       "      <th>brands</th>\n",
       "      <th>emotions</th>\n",
       "      <th>tweets_processed</th>\n",
       "      <th>tweets_tokenized</th>\n",
       "    </tr>\n",
       "  </thead>\n",
       "  <tbody>\n",
       "    <tr>\n",
       "      <th>0</th>\n",
       "      <td>iphone</td>\n",
       "      <td>Negative emotion</td>\n",
       "      <td>wesley iphone tweeting rise austin dead need u...</td>\n",
       "      <td>[wesley, iphone, tweeting, rise, austin, dead,...</td>\n",
       "    </tr>\n",
       "    <tr>\n",
       "      <th>1</th>\n",
       "      <td>ipad or iphone app</td>\n",
       "      <td>Positive emotion</td>\n",
       "      <td>jessedee know fludapp awesome ipad iphone like...</td>\n",
       "      <td>[jessedee, know, fludapp, awesome, ipad, iphon...</td>\n",
       "    </tr>\n",
       "    <tr>\n",
       "      <th>2</th>\n",
       "      <td>ipad</td>\n",
       "      <td>Positive emotion</td>\n",
       "      <td>swonderlin wait ipad also sale</td>\n",
       "      <td>[swonderlin, wait, ipad, also, sale]</td>\n",
       "    </tr>\n",
       "    <tr>\n",
       "      <th>3</th>\n",
       "      <td>ipad or iphone app</td>\n",
       "      <td>Negative emotion</td>\n",
       "      <td>hope year festival crashy year iphone</td>\n",
       "      <td>[hope, year, festival, crashy, year, iphone]</td>\n",
       "    </tr>\n",
       "    <tr>\n",
       "      <th>4</th>\n",
       "      <td>google</td>\n",
       "      <td>Positive emotion</td>\n",
       "      <td>sxtxstate great stuff marissa mayer google rei...</td>\n",
       "      <td>[sxtxstate, great, stuff, marissa, mayer, goog...</td>\n",
       "    </tr>\n",
       "    <tr>\n",
       "      <th>...</th>\n",
       "      <td>...</td>\n",
       "      <td>...</td>\n",
       "      <td>...</td>\n",
       "      <td>...</td>\n",
       "    </tr>\n",
       "    <tr>\n",
       "      <th>9088</th>\n",
       "      <td>ipad</td>\n",
       "      <td>Positive emotion</td>\n",
       "      <td>ipad everywhere</td>\n",
       "      <td>[ipad, everywhere]</td>\n",
       "    </tr>\n",
       "    <tr>\n",
       "      <th>9089</th>\n",
       "      <td>google</td>\n",
       "      <td>No emotion toward brand or product</td>\n",
       "      <td>wave buzz interrupt regularly scheduled geek p...</td>\n",
       "      <td>[wave, buzz, interrupt, regularly, scheduled, ...</td>\n",
       "    </tr>\n",
       "    <tr>\n",
       "      <th>9090</th>\n",
       "      <td>google</td>\n",
       "      <td>No emotion toward brand or product</td>\n",
       "      <td>google zeiger physician never reported potenti...</td>\n",
       "      <td>[google, zeiger, physician, never, reported, p...</td>\n",
       "    </tr>\n",
       "    <tr>\n",
       "      <th>9091</th>\n",
       "      <td>iphone</td>\n",
       "      <td>No emotion toward brand or product</td>\n",
       "      <td>verizon iphone customers complained time fell ...</td>\n",
       "      <td>[verizon, iphone, customers, complained, time,...</td>\n",
       "    </tr>\n",
       "    <tr>\n",
       "      <th>9092</th>\n",
       "      <td>google</td>\n",
       "      <td>No emotion toward brand or product</td>\n",
       "      <td> ¡     £   £ ûârt googl...</td>\n",
       "      <td>[, ¡, , , , , £, , , £, ...</td>\n",
       "    </tr>\n",
       "  </tbody>\n",
       "</table>\n",
       "<p>8936 rows × 4 columns</p>\n",
       "</div>"
      ],
      "text/plain": [
       "                  brands                            emotions  \\\n",
       "0                 iphone                    Negative emotion   \n",
       "1     ipad or iphone app                    Positive emotion   \n",
       "2                   ipad                    Positive emotion   \n",
       "3     ipad or iphone app                    Negative emotion   \n",
       "4                 google                    Positive emotion   \n",
       "...                  ...                                 ...   \n",
       "9088                ipad                    Positive emotion   \n",
       "9089              google  No emotion toward brand or product   \n",
       "9090              google  No emotion toward brand or product   \n",
       "9091              iphone  No emotion toward brand or product   \n",
       "9092              google  No emotion toward brand or product   \n",
       "\n",
       "                                       tweets_processed  \\\n",
       "0     wesley iphone tweeting rise austin dead need u...   \n",
       "1     jessedee know fludapp awesome ipad iphone like...   \n",
       "2                        swonderlin wait ipad also sale   \n",
       "3                 hope year festival crashy year iphone   \n",
       "4     sxtxstate great stuff marissa mayer google rei...   \n",
       "...                                                 ...   \n",
       "9088                                    ipad everywhere   \n",
       "9089  wave buzz interrupt regularly scheduled geek p...   \n",
       "9090  google zeiger physician never reported potenti...   \n",
       "9091  verizon iphone customers complained time fell ...   \n",
       "9092   ¡     £   £ ûârt googl...   \n",
       "\n",
       "                                       tweets_tokenized  \n",
       "0     [wesley, iphone, tweeting, rise, austin, dead,...  \n",
       "1     [jessedee, know, fludapp, awesome, ipad, iphon...  \n",
       "2                  [swonderlin, wait, ipad, also, sale]  \n",
       "3          [hope, year, festival, crashy, year, iphone]  \n",
       "4     [sxtxstate, great, stuff, marissa, mayer, goog...  \n",
       "...                                                 ...  \n",
       "9088                                 [ipad, everywhere]  \n",
       "9089  [wave, buzz, interrupt, regularly, scheduled, ...  \n",
       "9090  [google, zeiger, physician, never, reported, p...  \n",
       "9091  [verizon, iphone, customers, complained, time,...  \n",
       "9092  [, ¡, , , , , £, , , £, ...  \n",
       "\n",
       "[8936 rows x 4 columns]"
      ]
     },
     "execution_count": 32,
     "metadata": {},
     "output_type": "execute_result"
    }
   ],
   "source": [
    "tweets_df = tweets_df.drop(['tweets'], axis=1)\n",
    "tweets_df"
   ]
  },
  {
   "cell_type": "markdown",
   "id": "26cbe145-bd7a-423e-856d-1ae82e2d77cb",
   "metadata": {},
   "source": [
    "### I.3 Experimentation with classification\n",
    "\n",
    "We are going to use the scikit-learn ```MultinomialNB```, an implementation of the Naive Bayesian model.:\n",
    "\n",
    "The naïve hypothesis assumes that the features(words) are conditionally independent of each other, given the class."
   ]
  },
  {
   "cell_type": "markdown",
   "id": "14754abc-c301-41d6-8fd3-c9e34eaaa4be",
   "metadata": {
    "jp-MarkdownHeadingCollapsed": true
   },
   "source": [
    "#### Tf-idf:\n",
    "\n",
    "This is the product of the frequency of the term (TF) and its inverse frequency in documents (IDF).\n",
    "This method is usually used to measure the importance of a term $i$ in a document $j$ relative to the rest of the corpus, from a matrix of occurrences $ words \\times documents$. Thus, for a matrix $\\mathbf{T}$ of $|V|$ terms and $D$ documents:\n",
    "$$\\text{TF}(T, w, d) = \\frac{T_{w,d}}{\\sum_{w'=1}^{|V|} T_{w',d}} $$\n",
    "\n",
    "$$\\text{IDF}(T, w) = \\log\\left(\\frac{D}{|\\{d : T_{w,d} > 0\\}|}\\right)$$\n",
    "\n",
    "$$\\text{TF-IDF}(T, w, d) = \\text{TF}(X, w, d) \\cdot \\text{IDF}(T, w)$$\n",
    "\n",
    "It can be adapted to our case by considering that the context of the second word is the document. However, TF-IDF is generally better suited to low-density matrices, since it will penalize terms that appear in a large part of the documents."
   ]
  },
  {
   "cell_type": "markdown",
   "id": "165be6f6-0753-4448-8830-cfab4957da14",
   "metadata": {},
   "source": [
    "## Model training: SVM classifier with TfidfVectorizer"
   ]
  },
  {
   "cell_type": "code",
   "execution_count": 33,
   "id": "b8b449f0-5726-4767-a546-68c0b376942b",
   "metadata": {},
   "outputs": [],
   "source": [
    "# Importing libraries needed for model training"
   ]
  },
  {
   "cell_type": "code",
   "execution_count": 34,
   "id": "5bbb6851-8819-4aec-9bc5-41ef194b4c56",
   "metadata": {},
   "outputs": [],
   "source": [
    "from sklearn import svm\n",
    "from sklearn.model_selection import train_test_split\n",
    "from sklearn.metrics import classification_report\n",
    "from sklearn.feature_extraction.text import TfidfVectorizer"
   ]
  },
  {
   "cell_type": "code",
   "execution_count": 35,
   "id": "61f0c3a8-01f1-493f-a93b-df73efe2b8af",
   "metadata": {},
   "outputs": [],
   "source": [
    "# Quick overview of the dataset we use for training the model"
   ]
  },
  {
   "cell_type": "code",
   "execution_count": 36,
   "id": "f8ab15e5-a01b-483f-acec-c3b8801f8f9d",
   "metadata": {},
   "outputs": [
    {
     "data": {
      "text/html": [
       "<div>\n",
       "<style scoped>\n",
       "    .dataframe tbody tr th:only-of-type {\n",
       "        vertical-align: middle;\n",
       "    }\n",
       "\n",
       "    .dataframe tbody tr th {\n",
       "        vertical-align: top;\n",
       "    }\n",
       "\n",
       "    .dataframe thead th {\n",
       "        text-align: right;\n",
       "    }\n",
       "</style>\n",
       "<table border=\"1\" class=\"dataframe\">\n",
       "  <thead>\n",
       "    <tr style=\"text-align: right;\">\n",
       "      <th></th>\n",
       "      <th>brands</th>\n",
       "      <th>emotions</th>\n",
       "      <th>tweets_processed</th>\n",
       "      <th>tweets_tokenized</th>\n",
       "    </tr>\n",
       "  </thead>\n",
       "  <tbody>\n",
       "    <tr>\n",
       "      <th>0</th>\n",
       "      <td>iphone</td>\n",
       "      <td>Negative emotion</td>\n",
       "      <td>wesley iphone tweeting rise austin dead need u...</td>\n",
       "      <td>[wesley, iphone, tweeting, rise, austin, dead,...</td>\n",
       "    </tr>\n",
       "    <tr>\n",
       "      <th>1</th>\n",
       "      <td>ipad or iphone app</td>\n",
       "      <td>Positive emotion</td>\n",
       "      <td>jessedee know fludapp awesome ipad iphone like...</td>\n",
       "      <td>[jessedee, know, fludapp, awesome, ipad, iphon...</td>\n",
       "    </tr>\n",
       "    <tr>\n",
       "      <th>2</th>\n",
       "      <td>ipad</td>\n",
       "      <td>Positive emotion</td>\n",
       "      <td>swonderlin wait ipad also sale</td>\n",
       "      <td>[swonderlin, wait, ipad, also, sale]</td>\n",
       "    </tr>\n",
       "    <tr>\n",
       "      <th>3</th>\n",
       "      <td>ipad or iphone app</td>\n",
       "      <td>Negative emotion</td>\n",
       "      <td>hope year festival crashy year iphone</td>\n",
       "      <td>[hope, year, festival, crashy, year, iphone]</td>\n",
       "    </tr>\n",
       "    <tr>\n",
       "      <th>4</th>\n",
       "      <td>google</td>\n",
       "      <td>Positive emotion</td>\n",
       "      <td>sxtxstate great stuff marissa mayer google rei...</td>\n",
       "      <td>[sxtxstate, great, stuff, marissa, mayer, goog...</td>\n",
       "    </tr>\n",
       "    <tr>\n",
       "      <th>...</th>\n",
       "      <td>...</td>\n",
       "      <td>...</td>\n",
       "      <td>...</td>\n",
       "      <td>...</td>\n",
       "    </tr>\n",
       "    <tr>\n",
       "      <th>9088</th>\n",
       "      <td>ipad</td>\n",
       "      <td>Positive emotion</td>\n",
       "      <td>ipad everywhere</td>\n",
       "      <td>[ipad, everywhere]</td>\n",
       "    </tr>\n",
       "    <tr>\n",
       "      <th>9089</th>\n",
       "      <td>google</td>\n",
       "      <td>No emotion toward brand or product</td>\n",
       "      <td>wave buzz interrupt regularly scheduled geek p...</td>\n",
       "      <td>[wave, buzz, interrupt, regularly, scheduled, ...</td>\n",
       "    </tr>\n",
       "    <tr>\n",
       "      <th>9090</th>\n",
       "      <td>google</td>\n",
       "      <td>No emotion toward brand or product</td>\n",
       "      <td>google zeiger physician never reported potenti...</td>\n",
       "      <td>[google, zeiger, physician, never, reported, p...</td>\n",
       "    </tr>\n",
       "    <tr>\n",
       "      <th>9091</th>\n",
       "      <td>iphone</td>\n",
       "      <td>No emotion toward brand or product</td>\n",
       "      <td>verizon iphone customers complained time fell ...</td>\n",
       "      <td>[verizon, iphone, customers, complained, time,...</td>\n",
       "    </tr>\n",
       "    <tr>\n",
       "      <th>9092</th>\n",
       "      <td>google</td>\n",
       "      <td>No emotion toward brand or product</td>\n",
       "      <td> ¡     £   £ ûârt googl...</td>\n",
       "      <td>[, ¡, , , , , £, , , £, ...</td>\n",
       "    </tr>\n",
       "  </tbody>\n",
       "</table>\n",
       "<p>8936 rows × 4 columns</p>\n",
       "</div>"
      ],
      "text/plain": [
       "                  brands                            emotions  \\\n",
       "0                 iphone                    Negative emotion   \n",
       "1     ipad or iphone app                    Positive emotion   \n",
       "2                   ipad                    Positive emotion   \n",
       "3     ipad or iphone app                    Negative emotion   \n",
       "4                 google                    Positive emotion   \n",
       "...                  ...                                 ...   \n",
       "9088                ipad                    Positive emotion   \n",
       "9089              google  No emotion toward brand or product   \n",
       "9090              google  No emotion toward brand or product   \n",
       "9091              iphone  No emotion toward brand or product   \n",
       "9092              google  No emotion toward brand or product   \n",
       "\n",
       "                                       tweets_processed  \\\n",
       "0     wesley iphone tweeting rise austin dead need u...   \n",
       "1     jessedee know fludapp awesome ipad iphone like...   \n",
       "2                        swonderlin wait ipad also sale   \n",
       "3                 hope year festival crashy year iphone   \n",
       "4     sxtxstate great stuff marissa mayer google rei...   \n",
       "...                                                 ...   \n",
       "9088                                    ipad everywhere   \n",
       "9089  wave buzz interrupt regularly scheduled geek p...   \n",
       "9090  google zeiger physician never reported potenti...   \n",
       "9091  verizon iphone customers complained time fell ...   \n",
       "9092   ¡     £   £ ûârt googl...   \n",
       "\n",
       "                                       tweets_tokenized  \n",
       "0     [wesley, iphone, tweeting, rise, austin, dead,...  \n",
       "1     [jessedee, know, fludapp, awesome, ipad, iphon...  \n",
       "2                  [swonderlin, wait, ipad, also, sale]  \n",
       "3          [hope, year, festival, crashy, year, iphone]  \n",
       "4     [sxtxstate, great, stuff, marissa, mayer, goog...  \n",
       "...                                                 ...  \n",
       "9088                                 [ipad, everywhere]  \n",
       "9089  [wave, buzz, interrupt, regularly, scheduled, ...  \n",
       "9090  [google, zeiger, physician, never, reported, p...  \n",
       "9091  [verizon, iphone, customers, complained, time,...  \n",
       "9092  [, ¡, , , , , £, , , £, ...  \n",
       "\n",
       "[8936 rows x 4 columns]"
      ]
     },
     "execution_count": 36,
     "metadata": {},
     "output_type": "execute_result"
    }
   ],
   "source": [
    "tweets_df"
   ]
  },
  {
   "cell_type": "code",
   "execution_count": 37,
   "id": "437da3d5-0269-4a7d-8949-2b14c2a07a88",
   "metadata": {},
   "outputs": [],
   "source": [
    "# Data separation"
   ]
  },
  {
   "cell_type": "code",
   "execution_count": 38,
   "id": "e6074ab4-1581-4580-9741-b14a33b22d61",
   "metadata": {},
   "outputs": [
    {
     "name": "stdout",
     "output_type": "stream",
     "text": [
      "{'Negative emotion': 0, 'Positive emotion': 2, 'No emotion toward brand or product': 1}\n"
     ]
    }
   ],
   "source": [
    "from sklearn.preprocessing import LabelEncoder\n",
    "\n",
    "label_encoder = LabelEncoder()\n",
    "\n",
    "emotions = tweets_df['emotions'].unique()\n",
    "emotions_encoded = label_encoder.fit_transform(emotions)\n",
    "print(dict(zip(emotions, emotions_encoded)))\n",
    "\n",
    "tweets_df['emotions'] = label_encoder.fit_transform(tweets_df['emotions'])"
   ]
  },
  {
   "cell_type": "code",
   "execution_count": 39,
   "id": "c9e49c49-17bb-4a44-bd70-3c3c339cf1e4",
   "metadata": {},
   "outputs": [
    {
     "data": {
      "text/html": [
       "<div>\n",
       "<style scoped>\n",
       "    .dataframe tbody tr th:only-of-type {\n",
       "        vertical-align: middle;\n",
       "    }\n",
       "\n",
       "    .dataframe tbody tr th {\n",
       "        vertical-align: top;\n",
       "    }\n",
       "\n",
       "    .dataframe thead th {\n",
       "        text-align: right;\n",
       "    }\n",
       "</style>\n",
       "<table border=\"1\" class=\"dataframe\">\n",
       "  <thead>\n",
       "    <tr style=\"text-align: right;\">\n",
       "      <th></th>\n",
       "      <th>brands</th>\n",
       "      <th>emotions</th>\n",
       "      <th>tweets_processed</th>\n",
       "      <th>tweets_tokenized</th>\n",
       "    </tr>\n",
       "  </thead>\n",
       "  <tbody>\n",
       "    <tr>\n",
       "      <th>0</th>\n",
       "      <td>iphone</td>\n",
       "      <td>0</td>\n",
       "      <td>wesley iphone tweeting rise austin dead need u...</td>\n",
       "      <td>[wesley, iphone, tweeting, rise, austin, dead,...</td>\n",
       "    </tr>\n",
       "    <tr>\n",
       "      <th>1</th>\n",
       "      <td>ipad or iphone app</td>\n",
       "      <td>2</td>\n",
       "      <td>jessedee know fludapp awesome ipad iphone like...</td>\n",
       "      <td>[jessedee, know, fludapp, awesome, ipad, iphon...</td>\n",
       "    </tr>\n",
       "    <tr>\n",
       "      <th>2</th>\n",
       "      <td>ipad</td>\n",
       "      <td>2</td>\n",
       "      <td>swonderlin wait ipad also sale</td>\n",
       "      <td>[swonderlin, wait, ipad, also, sale]</td>\n",
       "    </tr>\n",
       "    <tr>\n",
       "      <th>3</th>\n",
       "      <td>ipad or iphone app</td>\n",
       "      <td>0</td>\n",
       "      <td>hope year festival crashy year iphone</td>\n",
       "      <td>[hope, year, festival, crashy, year, iphone]</td>\n",
       "    </tr>\n",
       "    <tr>\n",
       "      <th>4</th>\n",
       "      <td>google</td>\n",
       "      <td>2</td>\n",
       "      <td>sxtxstate great stuff marissa mayer google rei...</td>\n",
       "      <td>[sxtxstate, great, stuff, marissa, mayer, goog...</td>\n",
       "    </tr>\n",
       "    <tr>\n",
       "      <th>...</th>\n",
       "      <td>...</td>\n",
       "      <td>...</td>\n",
       "      <td>...</td>\n",
       "      <td>...</td>\n",
       "    </tr>\n",
       "    <tr>\n",
       "      <th>9088</th>\n",
       "      <td>ipad</td>\n",
       "      <td>2</td>\n",
       "      <td>ipad everywhere</td>\n",
       "      <td>[ipad, everywhere]</td>\n",
       "    </tr>\n",
       "    <tr>\n",
       "      <th>9089</th>\n",
       "      <td>google</td>\n",
       "      <td>1</td>\n",
       "      <td>wave buzz interrupt regularly scheduled geek p...</td>\n",
       "      <td>[wave, buzz, interrupt, regularly, scheduled, ...</td>\n",
       "    </tr>\n",
       "    <tr>\n",
       "      <th>9090</th>\n",
       "      <td>google</td>\n",
       "      <td>1</td>\n",
       "      <td>google zeiger physician never reported potenti...</td>\n",
       "      <td>[google, zeiger, physician, never, reported, p...</td>\n",
       "    </tr>\n",
       "    <tr>\n",
       "      <th>9091</th>\n",
       "      <td>iphone</td>\n",
       "      <td>1</td>\n",
       "      <td>verizon iphone customers complained time fell ...</td>\n",
       "      <td>[verizon, iphone, customers, complained, time,...</td>\n",
       "    </tr>\n",
       "    <tr>\n",
       "      <th>9092</th>\n",
       "      <td>google</td>\n",
       "      <td>1</td>\n",
       "      <td> ¡     £   £ ûârt googl...</td>\n",
       "      <td>[, ¡, , , , , £, , , £, ...</td>\n",
       "    </tr>\n",
       "  </tbody>\n",
       "</table>\n",
       "<p>8936 rows × 4 columns</p>\n",
       "</div>"
      ],
      "text/plain": [
       "                  brands  emotions  \\\n",
       "0                 iphone         0   \n",
       "1     ipad or iphone app         2   \n",
       "2                   ipad         2   \n",
       "3     ipad or iphone app         0   \n",
       "4                 google         2   \n",
       "...                  ...       ...   \n",
       "9088                ipad         2   \n",
       "9089              google         1   \n",
       "9090              google         1   \n",
       "9091              iphone         1   \n",
       "9092              google         1   \n",
       "\n",
       "                                       tweets_processed  \\\n",
       "0     wesley iphone tweeting rise austin dead need u...   \n",
       "1     jessedee know fludapp awesome ipad iphone like...   \n",
       "2                        swonderlin wait ipad also sale   \n",
       "3                 hope year festival crashy year iphone   \n",
       "4     sxtxstate great stuff marissa mayer google rei...   \n",
       "...                                                 ...   \n",
       "9088                                    ipad everywhere   \n",
       "9089  wave buzz interrupt regularly scheduled geek p...   \n",
       "9090  google zeiger physician never reported potenti...   \n",
       "9091  verizon iphone customers complained time fell ...   \n",
       "9092   ¡     £   £ ûârt googl...   \n",
       "\n",
       "                                       tweets_tokenized  \n",
       "0     [wesley, iphone, tweeting, rise, austin, dead,...  \n",
       "1     [jessedee, know, fludapp, awesome, ipad, iphon...  \n",
       "2                  [swonderlin, wait, ipad, also, sale]  \n",
       "3          [hope, year, festival, crashy, year, iphone]  \n",
       "4     [sxtxstate, great, stuff, marissa, mayer, goog...  \n",
       "...                                                 ...  \n",
       "9088                                 [ipad, everywhere]  \n",
       "9089  [wave, buzz, interrupt, regularly, scheduled, ...  \n",
       "9090  [google, zeiger, physician, never, reported, p...  \n",
       "9091  [verizon, iphone, customers, complained, time,...  \n",
       "9092  [, ¡, , , , , £, , , £, ...  \n",
       "\n",
       "[8936 rows x 4 columns]"
      ]
     },
     "execution_count": 39,
     "metadata": {},
     "output_type": "execute_result"
    }
   ],
   "source": [
    "tweets_df"
   ]
  },
  {
   "cell_type": "code",
   "execution_count": 40,
   "id": "2ad1c3b4-5e1c-4ae7-abbe-0013c9d89340",
   "metadata": {},
   "outputs": [
    {
     "data": {
      "text/plain": [
       "emotions\n",
       "1    5388\n",
       "2    2978\n",
       "0     570\n",
       "Name: count, dtype: int64"
      ]
     },
     "execution_count": 40,
     "metadata": {},
     "output_type": "execute_result"
    }
   ],
   "source": [
    "tweets_df['emotions'].value_counts()"
   ]
  },
  {
   "cell_type": "code",
   "execution_count": 41,
   "id": "1c71d547-a08f-49c2-8c20-6f9c401f6428",
   "metadata": {},
   "outputs": [],
   "source": [
    "# Separating the 95% data for training data and 10% for testing data\n",
    "X = tweets_df['tweets_processed']\n",
    "y = tweets_df.emotions\n",
    "\n",
    "X_train, X_test, y_train, y_test = train_test_split(X, y, test_size=0.2, random_state=42) "
   ]
  },
  {
   "cell_type": "code",
   "execution_count": 44,
   "id": "b89b1663-a320-4273-9381-f35adb7fb14a",
   "metadata": {},
   "outputs": [],
   "source": [
    "# Performing classification"
   ]
  },
  {
   "cell_type": "code",
   "execution_count": 47,
   "id": "c15708ed-2786-4a04-b61d-5983134d04f3",
   "metadata": {},
   "outputs": [
    {
     "name": "stdout",
     "output_type": "stream",
     "text": [
      "              precision    recall  f1-score   support\n",
      "\n",
      "           0       0.68      0.18      0.29       126\n",
      "           1       0.67      0.92      0.78      1094\n",
      "           2       0.69      0.32      0.44       568\n",
      "\n",
      "    accuracy                           0.68      1788\n",
      "   macro avg       0.68      0.47      0.50      1788\n",
      "weighted avg       0.68      0.68      0.64      1788\n",
      "\n",
      "Confusion Matrix:\n"
     ]
    },
    {
     "data": {
      "text/plain": [
       "<sklearn.metrics._plot.confusion_matrix.ConfusionMatrixDisplay at 0x2782abd5b40>"
      ]
     },
     "execution_count": 47,
     "metadata": {},
     "output_type": "execute_result"
    },
    {
     "data": {
      "image/png": "[encoded data removed]",
      "text/plain": [
       "<Figure size 640x480 with 2 Axes>"
      ]
     },
     "metadata": {},
     "output_type": "display_data"
    }
   ],
   "source": [
    "from sklearn.pipeline import Pipeline\n",
    "\n",
    "pipeline_base_svm = Pipeline([\n",
    "    ('vect', TfidfVectorizer(max_features=2000, analyzer='word')),\n",
    "    ('clf', svm.SVC(kernel='poly'))])\n",
    "pipeline_base_svm.fit(X_train, y_train)\n",
    "y_pred_svm = pipeline_base_svm.predict(X_test)\n",
    "print(classification_report(y_test, y_pred_svm))\n",
    "\n",
    "#Plot confusin matrix\n",
    "print(\"Confusion Matrix:\")\n",
    "cm = confusion_matrix(y_test, y_pred_svm)\n",
    "disp = ConfusionMatrixDisplay(confusion_matrix=cm, display_labels=pipeline_base_svm['clf'].classes_)\n",
    "disp.plot()"
   ]
  },
  {
   "cell_type": "markdown",
   "id": "8131205e-3477-41fb-98a2-225adbc4c230",
   "metadata": {},
   "source": [
    "### GridSearch"
   ]
  },
  {
   "cell_type": "code",
   "execution_count": 52,
   "id": "ca3a13d9-7f75-4f10-b292-9772fe515f45",
   "metadata": {},
   "outputs": [
    {
     "name": "stdout",
     "output_type": "stream",
     "text": [
      "Best Parameters:  {'clf__C': 1, 'clf__kernel': 'rbf', 'vect__max_features': 2000}\n",
      "Classification Report:\n",
      "              precision    recall  f1-score   support\n",
      "\n",
      "           0       0.76      0.10      0.18       126\n",
      "           1       0.69      0.89      0.78      1094\n",
      "           2       0.63      0.41      0.50       568\n",
      "\n",
      "    accuracy                           0.68      1788\n",
      "   macro avg       0.70      0.47      0.49      1788\n",
      "weighted avg       0.68      0.68      0.65      1788\n",
      "\n",
      "Confusion Matrix:\n"
     ]
    },
    {
     "data": {
      "text/plain": [
       "<sklearn.metrics._plot.confusion_matrix.ConfusionMatrixDisplay at 0x278387df430>"
      ]
     },
     "execution_count": 52,
     "metadata": {},
     "output_type": "execute_result"
    },
    {
     "data": {
      "image/png": "[encoded data removed]",
      "text/plain": [
       "<Figure size 640x480 with 2 Axes>"
      ]
     },
     "metadata": {},
     "output_type": "display_data"
    }
   ],
   "source": [
    "pipeline_base_svm = Pipeline([\n",
    "    ('vect', TfidfVectorizer(analyzer='word')),\n",
    "    ('clf', svm.SVC(kernel='poly'))])\n",
    "\n",
    "# Define the parameter grid for the grid search\n",
    "param_grid = {\n",
    "    'vect__max_features': [1000, 2000, 3000],\n",
    "    'clf__kernel': ['poly', 'rbf', 'sigmoid'],\n",
    "    'clf__C': [0.1, 1, 10]\n",
    "}\n",
    "\n",
    "# Perform grid search with 5-fold cross-validation\n",
    "grid_search = GridSearchCV(pipeline_base_svm, param_grid, cv=5)\n",
    "grid_search.fit(X_train, y_train)\n",
    "\n",
    "# Get the best parameters and best estimator\n",
    "best_params = grid_search.best_params_\n",
    "best_estimator = grid_search.best_estimator_\n",
    "\n",
    "# Print the best parameters\n",
    "print(\"Best Parameters: \", best_params)\n",
    "\n",
    "# Predict using the best estimator\n",
    "y_pred_svm = best_estimator.predict(X_test)\n",
    "\n",
    "# Print classification report\n",
    "print(\"Classification Report:\")\n",
    "print(classification_report(y_test, y_pred_svm))\n",
    "\n",
    "# Plot confusion matrix\n",
    "print(\"Confusion Matrix:\")\n",
    "cm = confusion_matrix(y_test, y_pred_svm)\n",
    "disp = ConfusionMatrixDisplay(confusion_matrix=cm, display_labels=best_estimator['clf'].classes_)\n",
    "disp.plot()"
   ]
  },
  {
   "cell_type": "markdown",
   "id": "15a7f1ad-e928-4cbf-ab82-3625192cfe13",
   "metadata": {},
   "source": [
    "## Model training: Multinomial Naive Bayes classifier with TfidfVectorizer"
   ]
  },
  {
   "cell_type": "code",
   "execution_count": 53,
   "id": "5f5f1ddf-6d5f-43ca-b59a-4638696e86a3",
   "metadata": {},
   "outputs": [
    {
     "name": "stdout",
     "output_type": "stream",
     "text": [
      "              precision    recall  f1-score   support\n",
      "\n",
      "           0       0.31      0.22      0.26       126\n",
      "           1       0.73      0.71      0.72      1094\n",
      "           2       0.51      0.56      0.53       568\n",
      "\n",
      "    accuracy                           0.63      1788\n",
      "   macro avg       0.52      0.50      0.50      1788\n",
      "weighted avg       0.63      0.63      0.63      1788\n",
      "\n",
      "Confusion Matrix:\n"
     ]
    },
    {
     "data": {
      "text/plain": [
       "<sklearn.metrics._plot.confusion_matrix.ConfusionMatrixDisplay at 0x2782610b190>"
      ]
     },
     "execution_count": 53,
     "metadata": {},
     "output_type": "execute_result"
    },
    {
     "data": {
      "image/png": "[encoded data removed]",
      "text/plain": [
       "<Figure size 640x480 with 2 Axes>"
      ]
     },
     "metadata": {},
     "output_type": "display_data"
    }
   ],
   "source": [
    "from sklearn.pipeline import Pipeline\n",
    "\n",
    "pipeline_base_NB = Pipeline([\n",
    "    ('vect', CountVectorizer(max_features=2000, analyzer='word')),\n",
    "    ('clf', MultinomialNB())\n",
    "])\n",
    "pipeline_base_NB.fit(X_train, y_train)\n",
    "y_pred_NB = pipeline_base_NB.predict(X_test)\n",
    "print(classification_report(y_test, y_pred_NB))\n",
    "\n",
    "#Plot confusin matrix\n",
    "print(\"Confusion Matrix:\")\n",
    "cm = confusion_matrix(y_test, y_pred_NB)\n",
    "disp = ConfusionMatrixDisplay(confusion_matrix=cm, display_labels=pipeline_base_NB['clf'].classes_)\n",
    "disp.plot()"
   ]
  },
  {
   "cell_type": "markdown",
   "id": "01f32d2e-0ed1-4b93-9946-be1e869e915d",
   "metadata": {},
   "source": [
    "### GridSearch on NB "
   ]
  },
  {
   "cell_type": "code",
   "execution_count": 54,
   "id": "6129b6c7-6f7c-47fc-a21a-ac5b933ce411",
   "metadata": {},
   "outputs": [
    {
     "name": "stdout",
     "output_type": "stream",
     "text": [
      "Best Parameters:  {'clf__class_prior': [0.064, 0.603, 0.333], 'vect__max_features': 3000}\n",
      "Classification Report:\n",
      "              precision    recall  f1-score   support\n",
      "\n",
      "           0       0.34      0.22      0.27       126\n",
      "           1       0.73      0.73      0.73      1094\n",
      "           2       0.52      0.56      0.54       568\n",
      "\n",
      "    accuracy                           0.64      1788\n",
      "   macro avg       0.53      0.50      0.51      1788\n",
      "weighted avg       0.63      0.64      0.64      1788\n",
      "\n",
      "Confusion Matrix:\n"
     ]
    },
    {
     "data": {
      "text/plain": [
       "<sklearn.metrics._plot.confusion_matrix.ConfusionMatrixDisplay at 0x278268cefb0>"
      ]
     },
     "execution_count": 54,
     "metadata": {},
     "output_type": "execute_result"
    },
    {
     "data": {
      "image/png": "[encoded data removed]",
      "text/plain": [
       "<Figure size 640x480 with 2 Axes>"
      ]
     },
     "metadata": {},
     "output_type": "display_data"
    }
   ],
   "source": [
    "pipeline_base_NB =  Pipeline([\n",
    "    ('vect', CountVectorizer(max_features=2500, analyzer='word')),\n",
    "    ('clf', MultinomialNB())])\n",
    "\n",
    "# Define the parameter grid for the grid search\n",
    "param_grid = {\n",
    "    'vect__max_features': [1000, 2000, 3000],\n",
    "    'clf__class_prior': [[0.064, 0.603,0.333], [0.55,0.15,0.3], [0.45, 0.25, 0.3]],\n",
    "}\n",
    "\n",
    "# Perform grid search with 5-fold cross-validation\n",
    "grid_search = GridSearchCV(pipeline_base_NB, param_grid, cv=5)\n",
    "grid_search.fit(X_train, y_train)\n",
    "\n",
    "# Get the best parameters and best estimator\n",
    "best_params = grid_search.best_params_\n",
    "best_estimator = grid_search.best_estimator_\n",
    "\n",
    "# Print the best parameters\n",
    "print(\"Best Parameters: \", best_params)\n",
    "\n",
    "# Predict using the best estimator\n",
    "y_pred_NB = best_estimator.predict(X_test)\n",
    "\n",
    "# Print classification report\n",
    "print(\"Classification Report:\")\n",
    "print(classification_report(y_test, y_pred_NB))\n",
    "\n",
    "# Plot confusion matrix\n",
    "print(\"Confusion Matrix:\")\n",
    "cm = confusion_matrix(y_test, y_pred_NB)\n",
    "disp = ConfusionMatrixDisplay(confusion_matrix=cm, display_labels=best_estimator['clf'].classes_)\n",
    "disp.plot()"
   ]
  },
  {
   "cell_type": "code",
   "execution_count": null,
   "id": "099af92c-73e0-49a9-b019-e205f739ace5",
   "metadata": {},
   "outputs": [],
   "source": []
  },
  {
   "cell_type": "code",
   "execution_count": null,
   "id": "575b1722-43c9-4616-a5a0-255f3587d380",
   "metadata": {},
   "outputs": [],
   "source": []
  },
  {
   "cell_type": "code",
   "execution_count": null,
   "id": "d9585edb-44a2-4b11-93a8-071509a7a0ef",
   "metadata": {},
   "outputs": [],
   "source": []
  },
  {
   "cell_type": "code",
   "execution_count": null,
   "id": "3eb86e5b-52d6-44ab-a319-1e67c0074234",
   "metadata": {},
   "outputs": [],
   "source": [
    "from gensim.models import word2vec\n",
    "\n",
    "model = word2vec.Word2Vec(df['tweets_tokenized'], min_count=1)"
   ]
  },
  {
   "cell_type": "code",
   "execution_count": null,
   "id": "802cb7db-5734-47bc-83f5-7926d4fa11c6",
   "metadata": {},
   "outputs": [],
   "source": []
  },
  {
   "cell_type": "code",
   "execution_count": null,
   "id": "8e2aff48-6142-4bf5-aae9-fcae70370f3d",
   "metadata": {},
   "outputs": [],
   "source": [
    "pipeline_base.classes_"
   ]
  },
  {
   "cell_type": "code",
   "execution_count": null,
   "id": "180bcafe-93fd-4b64-8918-610676ee590b",
   "metadata": {},
   "outputs": [],
   "source": [
    "import gensim\n",
    "from gensim.models import Word2Vec"
   ]
  }
 ],
 "metadata": {
  "kernelspec": {
   "display_name": "Python 3 (ipykernel)",
   "language": "python",
   "name": "python3"
  },
  "language_info": {
   "codemirror_mode": {
    "name": "ipython",
    "version": 3
   },
   "file_extension": ".py",
   "mimetype": "text/x-python",
   "name": "python",
   "nbconvert_exporter": "python",
   "pygments_lexer": "ipython3",
   "version": "3.10.11"
  }
 },
 "nbformat": 4,
 "nbformat_minor": 5
}
